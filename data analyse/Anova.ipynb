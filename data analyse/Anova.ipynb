{
 "cells": [
  {
   "cell_type": "markdown",
   "id": "quarterly-report",
   "metadata": {},
   "source": [
    "# Anova "
   ]
  },
  {
   "cell_type": "code",
   "execution_count": 24,
   "id": "concerned-renewal",
   "metadata": {},
   "outputs": [],
   "source": [
    "import pandas as pd\n",
    "import numpy as np\n",
    "import matplotlib.pyplot as plt\n",
    "from scipy import stats\n",
    "\n",
    "\n",
    "%matplotlib inline"
   ]
  },
  {
   "cell_type": "code",
   "execution_count": 25,
   "id": "elementary-negative",
   "metadata": {},
   "outputs": [
    {
     "data": {
      "text/html": [
       "<div>\n",
       "<style scoped>\n",
       "    .dataframe tbody tr th:only-of-type {\n",
       "        vertical-align: middle;\n",
       "    }\n",
       "\n",
       "    .dataframe tbody tr th {\n",
       "        vertical-align: top;\n",
       "    }\n",
       "\n",
       "    .dataframe thead th {\n",
       "        text-align: right;\n",
       "    }\n",
       "</style>\n",
       "<table border=\"1\" class=\"dataframe\">\n",
       "  <thead>\n",
       "    <tr style=\"text-align: right;\">\n",
       "      <th></th>\n",
       "      <th>female</th>\n",
       "      <th>man</th>\n",
       "    </tr>\n",
       "  </thead>\n",
       "  <tbody>\n",
       "    <tr>\n",
       "      <th>0</th>\n",
       "      <td>34</td>\n",
       "      <td>45.0</td>\n",
       "    </tr>\n",
       "    <tr>\n",
       "      <th>1</th>\n",
       "      <td>36</td>\n",
       "      <td>33.0</td>\n",
       "    </tr>\n",
       "    <tr>\n",
       "      <th>2</th>\n",
       "      <td>41</td>\n",
       "      <td>35.0</td>\n",
       "    </tr>\n",
       "    <tr>\n",
       "      <th>3</th>\n",
       "      <td>43</td>\n",
       "      <td>39.0</td>\n",
       "    </tr>\n",
       "    <tr>\n",
       "      <th>4</th>\n",
       "      <td>44</td>\n",
       "      <td>42.0</td>\n",
       "    </tr>\n",
       "  </tbody>\n",
       "</table>\n",
       "</div>"
      ],
      "text/plain": [
       "   female   man\n",
       "0      34  45.0\n",
       "1      36  33.0\n",
       "2      41  35.0\n",
       "3      43  39.0\n",
       "4      44  42.0"
      ]
     },
     "execution_count": 25,
     "metadata": {},
     "output_type": "execute_result"
    }
   ],
   "source": [
    "df = pd.read_csv(\"testdata.csv\", sep=\";\")\n",
    "df.head()"
   ]
  },
  {
   "cell_type": "markdown",
   "id": "mediterranean-jacket",
   "metadata": {},
   "source": [
    "## Describe data"
   ]
  },
  {
   "cell_type": "code",
   "execution_count": 26,
   "id": "2a822de3",
   "metadata": {},
   "outputs": [
    {
     "name": "stdout",
     "output_type": "stream",
     "text": [
      "   female   man\n",
      "0      34  45.0\n",
      "1      36  33.0\n",
      "2      41  35.0\n",
      "3      43  39.0\n",
      "4      44  42.0\n",
      "5      37   NaN\n"
     ]
    }
   ],
   "source": [
    "print(df)"
   ]
  },
  {
   "cell_type": "code",
   "execution_count": 27,
   "id": "analyzed-characterization",
   "metadata": {},
   "outputs": [
    {
     "name": "stdout",
     "output_type": "stream",
     "text": [
      "Descriptive statistics:\n",
      "          female       man\n",
      "count   6.000000   5.00000\n",
      "mean   39.166667  38.80000\n",
      "std     4.070217   4.91935\n",
      "min    34.000000  33.00000\n",
      "25%    36.250000  35.00000\n",
      "50%    39.000000  39.00000\n",
      "75%    42.500000  42.00000\n",
      "max    44.000000  45.00000\n"
     ]
    }
   ],
   "source": [
    "# Add hour column\n",
    "# Display basic descriptive statistics for each column\n",
    "print(\"Descriptive statistics:\")\n",
    "print(df.describe())"
   ]
  },
  {
   "cell_type": "code",
   "execution_count": 28,
   "id": "suspended-genetics",
   "metadata": {},
   "outputs": [
    {
     "name": "stdout",
     "output_type": "stream",
     "text": [
      "female\n"
     ]
    }
   ],
   "source": [
    "\n",
    "# Assuming the CSV has two columns named 'Group1' and 'Group2'\n",
    "female = df.iloc[:, 0].dropna()\n",
    "man = df.iloc[:, 1].dropna()\n",
    "\n",
    "\n",
    "headerOne = list(df.columns.values)[0]\n",
    "headerTWO = list(df.columns.values)[1]\n",
    "\n",
    "\n",
    "print(headerOne)\n",
    "significance_level = 0.05 # Testing level. "
   ]
  },
  {
   "cell_type": "markdown",
   "id": "elegant-precipitation",
   "metadata": {},
   "source": [
    "# \n"
   ]
  },
  {
   "cell_type": "markdown",
   "id": "972c3388",
   "metadata": {},
   "source": [
    "### Two-sided alternative hypothesis \n",
    "\n",
    "Null hypothesis is defined to be: These two mean value are not different from each other. <br>\n",
    "\n",
    "(μ) == mean <br>\n",
    "H_0 μ_1 - μ_2 = 0 <br>\n",
    "H_1 = μ_1 - μ_2 ≠ 0 <br>\n",
    "\n",
    "we want to check, to see if we can consider these two mean value to be identical. "
   ]
  },
  {
   "cell_type": "code",
   "execution_count": 29,
   "id": "respected-minimum",
   "metadata": {},
   "outputs": [
    {
     "name": "stdout",
     "output_type": "stream",
     "text": [
      "Anova t-test results:\n",
      "F-statistic: 0.018370755242159958\n",
      "P-value: 0.8951689966739856\n"
     ]
    }
   ],
   "source": [
    "# Anova\n",
    "f_stat, p_value = stats.f_oneway(female, man)\n",
    "\n",
    "print(f\"Anova t-test results:\")\n",
    "print(f\"F-statistic: {f_stat}\")\n",
    "print(f\"P-value: {p_val}\")"
   ]
  },
  {
   "cell_type": "code",
   "execution_count": 30,
   "id": "b6044468",
   "metadata": {},
   "outputs": [
    {
     "name": "stdout",
     "output_type": "stream",
     "text": [
      "since the P value is greater than the significance value, we cannot reject the null hypothesis\n"
     ]
    }
   ],
   "source": [
    "if p_value < significance_level: \n",
    "    print(\"since the P value is less than the significance value, we reject the null hypothesis, and conclude that with 95 % signicance level, that these two mean are difference\")\n",
    "else:\n",
    "     print(\"since the P value is greater than the significance value, we cannot reject the null hypothesis\")\n"
   ]
  },
  {
   "cell_type": "markdown",
   "id": "95cb6d39",
   "metadata": {},
   "source": [
    "### One-sided alternative hypothesis \n",
    "\n",
    "Null hypothesis is defined to be: does  <br>\n",
    "\n",
    "(μ) == mean <br>\n",
    "H_0 μ_1 - μ_2 <= 0 <br>\n",
    "H_1 = μ_1 - μ_2 > 0 <br>\n",
    "\n",
    "we want to check, to see if we can consider these two mean value to be identical. "
   ]
  },
  {
   "cell_type": "code",
   "execution_count": 31,
   "id": "6542b789",
   "metadata": {},
   "outputs": [
    {
     "ename": "NameError",
     "evalue": "name 'mannwhitneyu' is not defined",
     "output_type": "error",
     "traceback": [
      "\u001b[0;31m---------------------------------------------------------------------------\u001b[0m",
      "\u001b[0;31mNameError\u001b[0m                                 Traceback (most recent call last)",
      "Cell \u001b[0;32mIn[31], line 2\u001b[0m\n\u001b[1;32m      1\u001b[0m \u001b[38;5;66;03m# Perform Welch's t-test\u001b[39;00m\n\u001b[0;32m----> 2\u001b[0m u_stat, p_value \u001b[38;5;241m=\u001b[39m \u001b[43mmannwhitneyu\u001b[49m(female, man, alternative\u001b[38;5;241m=\u001b[39m\u001b[38;5;124m'\u001b[39m\u001b[38;5;124mgreater\u001b[39m\u001b[38;5;124m'\u001b[39m)\n\u001b[1;32m      4\u001b[0m \u001b[38;5;28mprint\u001b[39m(\u001b[38;5;124m\"\u001b[39m\u001b[38;5;130;01m\\n\u001b[39;00m\u001b[38;5;124mWelch\u001b[39m\u001b[38;5;124m'\u001b[39m\u001b[38;5;124ms t-test results:\u001b[39m\u001b[38;5;124m\"\u001b[39m)\n\u001b[1;32m      5\u001b[0m \u001b[38;5;28mprint\u001b[39m(\u001b[38;5;124mf\u001b[39m\u001b[38;5;124m\"\u001b[39m\u001b[38;5;124mt-statistic: \u001b[39m\u001b[38;5;132;01m{\u001b[39;00mt_stat\u001b[38;5;132;01m:\u001b[39;00m\u001b[38;5;124m.4f\u001b[39m\u001b[38;5;132;01m}\u001b[39;00m\u001b[38;5;124m\"\u001b[39m)\n",
      "\u001b[0;31mNameError\u001b[0m: name 'mannwhitneyu' is not defined"
     ]
    }
   ],
   "source": [
    "# Perform Welch's t-test\n",
    "u_stat, p_value = mannwhitneyu(female, man, alternative='greater')\n",
    "\n",
    "print(\"\\nWelch's t-test results:\")\n",
    "print(f\"t-statistic: {t_stat:.4f}\")\n",
    "print(f\"p-value: {p_value:.4f}\")"
   ]
  },
  {
   "cell_type": "code",
   "execution_count": null,
   "id": "16eb270e",
   "metadata": {},
   "outputs": [
    {
     "name": "stdout",
     "output_type": "stream",
     "text": [
      "since the P value is greater than the significance value, we cannot reject the null hypothesis\n"
     ]
    }
   ],
   "source": [
    "if p_value < significance_level: \n",
    "    print(\"since the P value is less than the significance value, we reject the null hypothesis, and conclude that with 95 % signicance level that  \" + headerOne + \"mean is less than\" + headerTWO)\n",
    "else:\n",
    "     print(\"since the P value is greater than the significance value, we cannot reject the null hypothesis\")\n"
   ]
  },
  {
   "cell_type": "markdown",
   "id": "05c18272",
   "metadata": {},
   "source": [
    "### One-sided alternative hypothesis \n",
    "\n",
    "Null hypothesis is defined to be: does  <br>\n",
    "\n",
    "(μ) == mean <br>\n",
    "H_0 μ_1 - μ_2 >= 0 <br>\n",
    "H_1 = μ_1 - μ_2 > 0 <br>\n"
   ]
  },
  {
   "cell_type": "code",
   "execution_count": null,
   "id": "471f544b",
   "metadata": {},
   "outputs": [
    {
     "name": "stdout",
     "output_type": "stream",
     "text": [
      "\n",
      "Welch's t-test results:\n",
      "t-statistic: 0.1330\n",
      "p-value: 0.6039\n"
     ]
    }
   ],
   "source": [
    "# Perform Welch's t-test\n",
    "'''\n",
    "\n",
    "\n",
    "'''\n",
    "\n",
    "u_stat, p_value = mannwhitneyu(female, man, alternative='less')\n",
    "\n",
    "print(\"\\nWelch's t-test results:\")\n",
    "print(f\"t-statistic: {t_stat:.4f}\")\n",
    "print(f\"p-value: {p_value:.4f}\")"
   ]
  },
  {
   "cell_type": "code",
   "execution_count": null,
   "id": "c5972704",
   "metadata": {},
   "outputs": [
    {
     "name": "stdout",
     "output_type": "stream",
     "text": [
      "since the P value is greater than the significance value, we cannot reject the null hypothesis\n"
     ]
    }
   ],
   "source": [
    "if p_value < significance_level: \n",
    "    print(\"since the P value is less than the significance value, we reject the null hypothesis, and conclude that with 95 % signicance level that \" + headerOne + \" mean is greater than \" + headerTWO)\n",
    "else:\n",
    "     print(\"since the P value is greater than the significance value, we cannot reject the null hypothesis\")\n"
   ]
  }
 ],
 "metadata": {
  "kernelspec": {
   "display_name": "Python 3",
   "language": "python",
   "name": "python3"
  },
  "language_info": {
   "codemirror_mode": {
    "name": "ipython",
    "version": 3
   },
   "file_extension": ".py",
   "mimetype": "text/x-python",
   "name": "python",
   "nbconvert_exporter": "python",
   "pygments_lexer": "ipython3",
   "version": "3.12.0"
  }
 },
 "nbformat": 4,
 "nbformat_minor": 5
}
