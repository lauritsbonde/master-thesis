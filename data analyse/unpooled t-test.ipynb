{
 "cells": [
  {
   "cell_type": "markdown",
   "id": "e05d18c8",
   "metadata": {},
   "source": [
    "# unpooled t-test for 2 samples test that do not share same varians (Welch's t-test)"
   ]
  },
  {
   "cell_type": "code",
   "execution_count": 49,
   "id": "82b3c00f",
   "metadata": {},
   "outputs": [],
   "source": [
    "import pandas as pd\n",
    "import numpy as np\n",
    "import matplotlib.pyplot as plt\n",
    "\n",
    "\n",
    "from scipy.stats import mannwhitneyu\n",
    "from scipy.stats import ttest_ind\n",
    "\n",
    "\n",
    "%matplotlib inline"
   ]
  },
  {
   "cell_type": "code",
   "execution_count": 50,
   "id": "39556ad7",
   "metadata": {},
   "outputs": [
    {
     "data": {
      "text/html": [
       "<div>\n",
       "<style scoped>\n",
       "    .dataframe tbody tr th:only-of-type {\n",
       "        vertical-align: middle;\n",
       "    }\n",
       "\n",
       "    .dataframe tbody tr th {\n",
       "        vertical-align: top;\n",
       "    }\n",
       "\n",
       "    .dataframe thead th {\n",
       "        text-align: right;\n",
       "    }\n",
       "</style>\n",
       "<table border=\"1\" class=\"dataframe\">\n",
       "  <thead>\n",
       "    <tr style=\"text-align: right;\">\n",
       "      <th></th>\n",
       "      <th>Baad 1 (sec)</th>\n",
       "      <th>Baad 3 (sec)</th>\n",
       "    </tr>\n",
       "  </thead>\n",
       "  <tbody>\n",
       "    <tr>\n",
       "      <th>0</th>\n",
       "      <td>32</td>\n",
       "      <td>25</td>\n",
       "    </tr>\n",
       "    <tr>\n",
       "      <th>1</th>\n",
       "      <td>30</td>\n",
       "      <td>26</td>\n",
       "    </tr>\n",
       "    <tr>\n",
       "      <th>2</th>\n",
       "      <td>30</td>\n",
       "      <td>27</td>\n",
       "    </tr>\n",
       "    <tr>\n",
       "      <th>3</th>\n",
       "      <td>27</td>\n",
       "      <td>31</td>\n",
       "    </tr>\n",
       "  </tbody>\n",
       "</table>\n",
       "</div>"
      ],
      "text/plain": [
       "   Baad 1 (sec)  Baad 3 (sec)\n",
       "0            32            25\n",
       "1            30            26\n",
       "2            30            27\n",
       "3            27            31"
      ]
     },
     "execution_count": 50,
     "metadata": {},
     "output_type": "execute_result"
    }
   ],
   "source": [
    "df = pd.read_csv(\"data/singleRun.csv\", sep=\";\")\n",
    "df.head()"
   ]
  },
  {
   "cell_type": "code",
   "execution_count": 51,
   "id": "c6443f7a",
   "metadata": {},
   "outputs": [
    {
     "name": "stdout",
     "output_type": "stream",
     "text": [
      "Descriptive statistics:\n",
      "       Baad 1 (sec)  Baad 3 (sec)\n",
      "count      4.000000      4.000000\n",
      "mean      29.750000     27.250000\n",
      "std        2.061553      2.629956\n",
      "min       27.000000     25.000000\n",
      "25%       29.250000     25.750000\n",
      "50%       30.000000     26.500000\n",
      "75%       30.500000     28.000000\n",
      "max       32.000000     31.000000\n"
     ]
    }
   ],
   "source": [
    "# Display basic descriptive statistics for each column\n",
    "print(\"Descriptive statistics:\")\n",
    "print(df.describe())\n"
   ]
  },
  {
   "cell_type": "code",
   "execution_count": 52,
   "id": "cb80a44c",
   "metadata": {},
   "outputs": [
    {
     "name": "stdout",
     "output_type": "stream",
     "text": [
      "Baad 1 (sec)\n"
     ]
    }
   ],
   "source": [
    "# Assuming the CSV has two columns named 'Group1' and 'Group2'\n",
    "group1 = df.iloc[:, 0].dropna()\n",
    "group2 = df.iloc[:, 1].dropna()\n",
    "\n",
    "headerOne = list(df.columns.values)[0]\n",
    "headerTWO = list(df.columns.values)[1]\n",
    "\n",
    "\n",
    "print(headerOne)\n",
    "significance_level = 0.05 # Testing level. \n"
   ]
  },
  {
   "cell_type": "markdown",
   "id": "0d0bc33e",
   "metadata": {},
   "source": [
    "### Two-sided alternative hypothesis \n",
    "\n",
    "Null hypothesis is defined to be: These two mean value are not different from each other. <br>\n",
    "\n",
    "(μ) == mean <br>\n",
    "H_0 μ_1 - μ_2 = 0 <br>\n",
    "H_1 = μ_1 - μ_2 ≠ 0 <br>\n",
    "\n",
    "we want to check, to see if we can consider these two mean value to be identical. \n"
   ]
  },
  {
   "cell_type": "code",
   "execution_count": 53,
   "id": "6b370bfc",
   "metadata": {},
   "outputs": [
    {
     "name": "stdout",
     "output_type": "stream",
     "text": [
      "\n",
      "Welch's t-test results:\n",
      "t-statistic: 1.4963\n",
      "p-value: 0.1880\n"
     ]
    }
   ],
   "source": [
    "# Perform Welch's t-test\n",
    "t_stat, p_value = ttest_ind(group1, group2, equal_var=False, alternative='two-sided')\n",
    "\n",
    "print(\"\\nWelch's t-test results:\")\n",
    "print(f\"t-statistic: {t_stat:.4f}\")\n",
    "print(f\"p-value: {p_value:.4f}\")"
   ]
  },
  {
   "cell_type": "code",
   "execution_count": 54,
   "id": "e7eb602e",
   "metadata": {},
   "outputs": [
    {
     "name": "stdout",
     "output_type": "stream",
     "text": [
      "since the P value is greater than the significance value, we cannot reject the null hypothesis\n"
     ]
    }
   ],
   "source": [
    "if p_value < significance_level: \n",
    "    print(\"since the P value is less than the significance value, we reject the null hypothesis, and conclude that with 95 % signicance level, that these two mean are difference\")\n",
    "else:\n",
    "     print(\"since the P value is greater than the significance value, we cannot reject the null hypothesis\")\n"
   ]
  },
  {
   "cell_type": "markdown",
   "id": "822f6968",
   "metadata": {},
   "source": [
    "### One-sided alternative hypothesis \n",
    "\n",
    "Null hypothesis is defined to be: does  <br>\n",
    "\n",
    "(μ) == mean <br>\n",
    "H_0 μ_1 - μ_2 <= 0 <br>\n",
    "H_1 = μ_1 - μ_2 > 0 <br>\n",
    "\n",
    "we want to check, to see if we can consider these two mean value to be identical. "
   ]
  },
  {
   "cell_type": "code",
   "execution_count": 55,
   "id": "91c49fb0",
   "metadata": {},
   "outputs": [
    {
     "name": "stdout",
     "output_type": "stream",
     "text": [
      "\n",
      "Welch's t-test results:\n",
      "t-statistic: 1.4963\n",
      "p-value: 0.0940\n"
     ]
    }
   ],
   "source": [
    "# Perform Welch's t-test\n",
    "t_stat, p_value = ttest_ind(group1, group2, equal_var=False, alternative='greater')\n",
    "\n",
    "print(\"\\nWelch's t-test results:\")\n",
    "print(f\"t-statistic: {t_stat:.4f}\")\n",
    "print(f\"p-value: {p_value:.4f}\")"
   ]
  },
  {
   "cell_type": "code",
   "execution_count": 56,
   "id": "2387bd77",
   "metadata": {},
   "outputs": [
    {
     "name": "stdout",
     "output_type": "stream",
     "text": [
      "since the P value is greater than the significance value, we cannot reject the null hypothesis\n"
     ]
    }
   ],
   "source": [
    "if p_value < significance_level: \n",
    "    print(\"since the P value is less than the significance value, we reject the null hypothesis, and conclude that with 95 % signicance level that  \" + headerOne + \"mean is less than\" + headerTWO)\n",
    "else:\n",
    "     print(\"since the P value is greater than the significance value, we cannot reject the null hypothesis\")\n"
   ]
  },
  {
   "cell_type": "markdown",
   "id": "20bcc9bc",
   "metadata": {},
   "source": [
    "### One-sided alternative hypothesis \n",
    "\n",
    "Null hypothesis is defined to be: does  <br>\n",
    "\n",
    "(μ) == mean <br>\n",
    "H_0 μ_1 - μ_2 >= 0 <br>\n",
    "H_1 = μ_1 - μ_2 > 0 <br>\n"
   ]
  },
  {
   "cell_type": "code",
   "execution_count": 57,
   "id": "cb64a6a1",
   "metadata": {},
   "outputs": [
    {
     "name": "stdout",
     "output_type": "stream",
     "text": [
      "\n",
      "Welch's t-test results:\n",
      "t-statistic: 1.4963\n",
      "p-value: 0.9060\n"
     ]
    }
   ],
   "source": [
    "# Perform Welch's t-test\n",
    "t_stat, p_value = ttest_ind(group1, group2, equal_var=False, alternative='less')\n",
    "\n",
    "print(\"\\nWelch's t-test results:\")\n",
    "print(f\"t-statistic: {t_stat:.4f}\")\n",
    "print(f\"p-value: {p_value:.4f}\")"
   ]
  },
  {
   "cell_type": "code",
   "execution_count": 58,
   "id": "03938fe2",
   "metadata": {},
   "outputs": [
    {
     "name": "stdout",
     "output_type": "stream",
     "text": [
      "since the P value is greater than the significance value, we cannot reject the null hypothesis\n"
     ]
    }
   ],
   "source": [
    "if p_value < significance_level: \n",
    "    print(\"since the P value is less than the significance value, we reject the null hypothesis, and conclude that with 95 % signicance level that \" + headerOne + \" mean is greater than \" + headerTWO)\n",
    "else:\n",
    "     print(\"since the P value is greater than the significance value, we cannot reject the null hypothesis\")\n"
   ]
  }
 ],
 "metadata": {
  "kernelspec": {
   "display_name": "Python 3",
   "language": "python",
   "name": "python3"
  },
  "language_info": {
   "codemirror_mode": {
    "name": "ipython",
    "version": 3
   },
   "file_extension": ".py",
   "mimetype": "text/x-python",
   "name": "python",
   "nbconvert_exporter": "python",
   "pygments_lexer": "ipython3",
   "version": "3.12.0"
  }
 },
 "nbformat": 4,
 "nbformat_minor": 5
}
