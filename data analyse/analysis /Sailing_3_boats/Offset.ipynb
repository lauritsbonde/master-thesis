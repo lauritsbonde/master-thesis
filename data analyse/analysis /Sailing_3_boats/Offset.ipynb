{
 "cells": [
  {
   "cell_type": "markdown",
   "id": "quarterly-report",
   "metadata": {},
   "source": [
    "# MannWhitney U-test (not asumming Guassian distribution) "
   ]
  },
  {
   "cell_type": "code",
   "execution_count": 1,
   "id": "concerned-renewal",
   "metadata": {},
   "outputs": [],
   "source": [
    "import pandas as pd\n",
    "import numpy as np\n",
    "import matplotlib.pyplot as plt\n",
    "from scipy.stats import mannwhitneyu\n",
    "\n",
    "\n",
    "%matplotlib inline"
   ]
  },
  {
   "cell_type": "code",
   "execution_count": 2,
   "id": "elementary-negative",
   "metadata": {},
   "outputs": [],
   "source": [
    "# \n",
    "Boat_One_single = pd.read_csv(\"../../data/3_boats/single/boat_1.csv\", sep=\";\")\n",
    "Boat_Tree_single = pd.read_csv(\"../../data/3_boats/single/boat_3.csv\", sep=\";\")\n",
    "\n",
    "\n",
    "Boat_One_OneTwoTree = pd.read_csv(\"../../data/3_boats/offsetline/boat_1(123_left).csv\", sep=\";\")\n",
    "Boat_Tree_OneTwoTree = pd.read_csv(\"../../data/3_boats/offsetline/boat_3(123_left).csv\", sep=\";\")\n",
    "Boat_One_TreeTwoOne = pd.read_csv(\"../../data/3_boats/offsetline/boat_1(123_right).csv\", sep=\";\")\n",
    "Boat_Tree_TreeTwoOne = pd.read_csv(\"../../data/3_boats/offsetline/boat_3(123_right).csv\", sep=\";\")\n",
    "\n",
    "# Data for when two boat were sailing\n",
    "Boat_One_Front = pd.read_csv(\"../../data/Boat_1_FrontDoubleCurrent.csv\", sep=\";\")\n",
    "Boat_One_Back = pd.read_csv(\"../../data/boat_1_double_back.csv\", sep=\";\")\n",
    "Boat_Tree_Front = pd.read_csv(\"../../data/boat_3_double_front.csv\", sep=\";\")\n",
    "Boat_Three_Back = pd.read_csv(\"../../data/boat_3_double_back.csv\", sep=\";\")\n",
    "\n",
    "\n"
   ]
  },
  {
   "cell_type": "markdown",
   "id": "94ac6e5c",
   "metadata": {},
   "source": [
    "## 1: Two-sided alternative hypothesis \n",
    "###  Is there a difference in used current of boat 1 and boat 2? \n",
    "\n",
    "Null hypothesis is defined to be: These two mean value are not different from each other. <br>\n",
    "(μ) == mean <br>\n",
    "H_0 μ_1 - μ_2 = 0 <br>\n",
    "H_1 = μ_1 - μ_2 ≠ 0 <br>"
   ]
  },
  {
   "cell_type": "code",
   "execution_count": 3,
   "id": "suspended-genetics",
   "metadata": {},
   "outputs": [],
   "source": [
    "\n",
    "# Assuming the CSV has two columns named 'Group1' and 'Group2'\n",
    "boatOneSingle = Boat_One_single.iloc[:, 1].dropna().abs()\n",
    "boatOne_front = Boat_One_OneTwoTree.iloc[:, 1].dropna().abs()\n",
    "\n",
    "headerOne = list(Boat_One_single.columns.values)[1]\n",
    "headerTWO = list(Boat_Tree_single.columns.values)[1]\n",
    "\n",
    "\n",
    "#print(boatOneSingle)\n",
    "significance_level = 0.05 # Testing level. "
   ]
  },
  {
   "cell_type": "code",
   "execution_count": 4,
   "id": "respected-minimum",
   "metadata": {},
   "outputs": [
    {
     "name": "stdout",
     "output_type": "stream",
     "text": [
      "\n",
      "Welch's t-test results:\n",
      "t-statistic: 4397.0000\n",
      "p-value: 0.2050\n",
      "\n",
      "Welch's t-test results:\n",
      "t-statistic: 4397.0000\n",
      "p-value: 0.1025\n"
     ]
    }
   ],
   "source": [
    "# Perform Welch's t-test\n",
    "u_stat, p_value = mannwhitneyu(boatOneSingle, boatOne_front, alternative='two-sided')\n",
    "\n",
    "\n",
    "# H_0 = boatOne - boattwo <= 0\n",
    "u_stat_one, p_value_one = mannwhitneyu(boatOneSingle, boatOne_front, alternative='greater') # h_0 = x - y <= 0,\n",
    "\n",
    "print(\"\\nWelch's t-test results:\")\n",
    "print(f\"t-statistic: {u_stat:.4f}\")\n",
    "print(f\"p-value: {p_value:.4f}\")\n",
    "\n",
    "print(\"\\nWelch's t-test results:\")\n",
    "print(f\"t-statistic: {u_stat_one:.4f}\")\n",
    "print(f\"p-value: {p_value_one:.4f}\")"
   ]
  },
  {
   "cell_type": "markdown",
   "id": "elegant-precipitation",
   "metadata": {},
   "source": [
    "# \n"
   ]
  },
  {
   "cell_type": "code",
   "execution_count": 5,
   "id": "b6044468",
   "metadata": {},
   "outputs": [
    {
     "name": "stdout",
     "output_type": "stream",
     "text": [
      "since the P value is greater than the significance value, we cannot reject the null hypothesis\n"
     ]
    }
   ],
   "source": [
    "if p_value < significance_level: \n",
    "    print(\"since the P value is less than the significance value, we reject the null hypothesis, and conclude that with 95 % signicance level, that these two mean are difference\")\n",
    "else:\n",
    "     print(\"since the P value is greater than the significance value, we cannot reject the null hypothesis\")\n"
   ]
  },
  {
   "cell_type": "markdown",
   "id": "cd976802",
   "metadata": {},
   "source": [
    "## 2: Two-sided alternative hypothesis \n",
    "###  Is there a difference in boat 1 current if the boat is in front and boat 2 is attached compared to when it is sailing alone?\n",
    "Null hypothesis is defined to be: These two mean value are not different from each other. <br>\n",
    "(μ) == mean <br>\n",
    "H_0 μ_1 - μ_2 = 0 <br>\n",
    "H_1 = μ_1 - μ_2 ≠ 0 <br>"
   ]
  },
  {
   "cell_type": "code",
   "execution_count": 6,
   "id": "875dfb5b",
   "metadata": {},
   "outputs": [],
   "source": [
    "\n",
    "# Assuming the CSV has two columns named 'Group1' and 'Group2'\n",
    "boat_tree_single = Boat_Tree_single.iloc[:, 1].dropna().abs()\n",
    "boat_tree_front = Boat_Tree_OneTwoTree.iloc[:, 1].dropna().abs()\n",
    "\n",
    "\n",
    "significance_level = 0.05 # Testing level. "
   ]
  },
  {
   "cell_type": "code",
   "execution_count": 7,
   "id": "0adb21a2",
   "metadata": {},
   "outputs": [
    {
     "name": "stdout",
     "output_type": "stream",
     "text": [
      "\n",
      "Welch's t-test results:\n",
      "t-statistic: 173.0000\n",
      "p-value: 0.0000\n",
      "\n",
      "Welch's t-test results:\n",
      "t-statistic: 173.0000\n",
      "p-value: 1.0000\n"
     ]
    }
   ],
   "source": [
    "# Perform Welch's t-test\n",
    "u_stat, p_value = mannwhitneyu(boat_tree_single, boat_tree_front, alternative='two-sided')\n",
    "\n",
    "# H_0 = boatOne - boatOne_groups >= 0\n",
    "u_stat_one, p_value_one = mannwhitneyu(boat_tree_single, boat_tree_front, alternative='greater') # h_0 = x - y <= 0\n",
    "\n",
    "\n",
    "print(\"\\nWelch's t-test results:\")\n",
    "print(f\"t-statistic: {u_stat:.4f}\")\n",
    "print(f\"p-value: {p_value:.4f}\")\n",
    "\n",
    "print(\"\\nWelch's t-test results:\")\n",
    "print(f\"t-statistic: {u_stat_one:.4f}\")\n",
    "print(f\"p-value: {p_value_one:.4f}\")"
   ]
  },
  {
   "cell_type": "code",
   "execution_count": 8,
   "id": "15b05f94",
   "metadata": {},
   "outputs": [
    {
     "name": "stdout",
     "output_type": "stream",
     "text": [
      "since the P value is less than the significance value, we reject the null hypothesis, and conclude that with 95 % signicance level, that these two mean are difference\n"
     ]
    }
   ],
   "source": [
    "if p_value < significance_level: \n",
    "    print(\"since the P value is less than the significance value, we reject the null hypothesis, and conclude that with 95 % signicance level, that these two mean are difference\")\n",
    "else:\n",
    "     print(\"since the P value is greater than the significance value, we cannot reject the null hypothesis\")\n"
   ]
  },
  {
   "cell_type": "markdown",
   "id": "b579b4cd",
   "metadata": {},
   "source": [
    "## 3: Two-sided alternative hypothesis \n",
    "### Is there a difference in the power of boat 3 used when boat 3 is sailing alone or on a offset to the right? \n",
    "\n",
    "Null hypothesis is defined to be: These two mean value are not different from each other. <br>\n",
    "(μ) == mean <br>\n",
    "H_0 μ_1 - μ_2 = 0 <br>\n",
    "H_1 = μ_1 - μ_2 ≠ 0 <br>"
   ]
  },
  {
   "cell_type": "code",
   "execution_count": null,
   "id": "0cbd5a54",
   "metadata": {},
   "outputs": [
    {
     "name": "stdout",
     "output_type": "stream",
     "text": [
      "\n",
      "Welch's t-test results:\n",
      "t-statistic: 178.0000\n",
      "p-value: 0.0000\n",
      "\n",
      "Welch's t-test results:\n",
      "t-statistic: 178.0000\n",
      "p-value: 1.0000\n",
      "since the P value is less than the significance value, we reject the null hypothesis, and conclude that with 95 % signicance level, that these two mean are difference\n"
     ]
    }
   ],
   "source": [
    "\n",
    "# Assuming the CSV has two columns named 'Group1' and 'Group2'\n",
    "\n",
    "# Assuming the CSV has two columns named 'Group1' and 'Group2'\n",
    "boat_tree_single = Boat_Tree_single.iloc[:, 1].dropna().abs()\n",
    "boat_tree_right = Boat_Tree_TreeTwoOne.iloc[:, 1].dropna().abs()\n",
    "\n",
    "significance_level = 0.05 # Testing level. \n",
    "\n",
    "# Perform Welch's t-test\n",
    "u_stat, p_value = mannwhitneyu(boat_tree_single, boat_tree_right, alternative='two-sided')\n",
    "\n",
    "# H_0 = boatOne - boatOne_groups >= 0\n",
    "u_stat_one, p_value_one = mannwhitneyu(boat_tree_single, boat_tree_right, alternative='greater') # h_0 = x - y <= 0, (h_0 = er x mindre end y) \n",
    "\n",
    "\n",
    "print(\"\\nWelch's t-test results:\")\n",
    "print(f\"t-statistic: {u_stat:.4f}\")\n",
    "print(f\"p-value: {p_value:.4f}\")\n",
    "\n",
    "print(\"\\nWelch's t-test results:\")\n",
    "print(f\"t-statistic: {u_stat_one:.4f}\")\n",
    "print(f\"p-value: {p_value_one:.4f}\")\n",
    "\n",
    "\n",
    "if p_value < significance_level: \n",
    "    print(\"since the P value is less than the significance value, we reject the null hypothesis, and conclude that with 95 % signicance level, that these two mean are difference\")\n",
    "else:\n",
    "     print(\"since the P value is greater than the significance value, we cannot reject the null hypothesis\")\n"
   ]
  },
  {
   "cell_type": "markdown",
   "id": "0f6f5c76",
   "metadata": {},
   "source": [
    "## 4: Two-sided alternative hypothesis \n",
    "###  is there a different in boat 1 current when it attach to boat 2 compared to when it sailing\n",
    "alone?\n",
    "\n",
    "Null hypothesis is defined to be: These two mean value are not different from each other. <br>\n",
    "(μ) == mean <br>\n",
    "H_0 μ_1 - μ_2 = 0 <br>\n",
    "H_1 = μ_1 - μ_2 ≠ 0 <br>"
   ]
  },
  {
   "cell_type": "code",
   "execution_count": 14,
   "id": "064087f0",
   "metadata": {},
   "outputs": [
    {
     "name": "stdout",
     "output_type": "stream",
     "text": [
      "\n",
      "Welch's t-test results:\n",
      "t-statistic: 10490.5000\n",
      "p-value: 0.2827\n",
      "\n",
      "Welch's t-test results:\n",
      "t-statistic: 10490.5000\n",
      "p-value: 0.1413\n",
      "since the P value is greater than the significance value, we cannot reject the null hypothesis\n"
     ]
    }
   ],
   "source": [
    "'''\n",
    "Boat_One_single = pd.read_csv(\"../../data/3_boats/single/boat_1.csv\", sep=\";\")\n",
    "Boat_Tree_single = pd.read_csv(\"../../data/3_boats/single/boat_3.csv\", sep=\";\")\n",
    "\n",
    "\n",
    "Boat_One_OneTwoTree = pd.read_csv(\"../../data/3_boats/offsetline/boat_1(123_left).csv\", sep=\";\")\n",
    "Boat_Tree_OneTwoTree = pd.read_csv(\"../../data/3_boats/offsetline/boat_3(123_left).csv\", sep=\";\")\n",
    "Boat_One_TreeTwoOne = pd.read_csv(\"../../data/3_boats/offsetline/boat_1(123_right).csv\", sep=\";\")\n",
    "Boat_Tree_TreeTwoOne = pd.read_csv(\"../../data/3_boats/offsetline/boat_3(123_right).csv\", sep=\";\")\n",
    "\n",
    "# Data for when two boat were sailing\n",
    "Boat_One_Front = pd.read_csv(\"../../data/Boat_1_FrontDoubleCurrent.csv\", sep=\";\")\n",
    "Boat_One_Back = pd.read_csv(\"../../data/boat_1_double_back.csv\", sep=\";\")\n",
    "Boat_Tree_Front = pd.read_csv(\"../../data/boat_3_double_front.csv\", sep=\";\")\n",
    "Boat_Three_Back = pd.read_csv(\"../../data/boat_3_double_back.csv\", sep=\";\")\n",
    "'''\n",
    "\n",
    "\n",
    "# Assuming the CSV has two columns named 'Group1' and 'Group2'\n",
    "\n",
    "# Assuming the CSV has two columns named 'Group1' and 'Group2'\n",
    "boat_tree_single = Boat_One_Back.iloc[:, 1].dropna().abs()\n",
    "boat_tree_right = Boat_One_TreeTwoOne.iloc[:, 1].dropna().abs()\n",
    "\n",
    "significance_level = 0.05 # Testing level. \n",
    "\n",
    "# Perform Welch's t-test\n",
    "u_stat, p_value = mannwhitneyu(boat_tree_single, boat_tree_right, alternative='two-sided')\n",
    "\n",
    "# H_0 = boatOne - boatOne_groups >= 0\n",
    "u_stat_one, p_value_one = mannwhitneyu(boat_tree_single, boat_tree_right, alternative='greater') # h_0 = x - y <= 0, (h_0 = er x mindre end y) \n",
    "\n",
    "\n",
    "print(\"\\nWelch's t-test results:\")\n",
    "print(f\"t-statistic: {u_stat:.4f}\")\n",
    "print(f\"p-value: {p_value:.4f}\")\n",
    "\n",
    "print(\"\\nWelch's t-test results:\")\n",
    "print(f\"t-statistic: {u_stat_one:.4f}\")\n",
    "print(f\"p-value: {p_value_one:.4f}\")\n",
    "\n",
    "\n",
    "if p_value < significance_level: \n",
    "    print(\"since the P value is less than the significance value, we reject the null hypothesis, and conclude that with 95 % signicance level, that these two mean are difference\")\n",
    "else:\n",
    "     print(\"since the P value is greater than the significance value, we cannot reject the null hypothesis\")\n"
   ]
  },
  {
   "cell_type": "markdown",
   "id": "78806ceb",
   "metadata": {},
   "source": [
    "## 5: Two-sided alternative hypothesis (INVALID)\n",
    "###   is there a different in boat 2 current when it attach to boat 1 compared to when it sailing alone?\n",
    "Null hypothesis is defined to be: These two mean value are not different from each other. <br>\n",
    "(μ) == mean <br>\n",
    "H_0 μ_1 - μ_2 = 0 <br>\n",
    "H_1 = μ_1 - μ_2 ≠ 0 <br>\n"
   ]
  },
  {
   "cell_type": "code",
   "execution_count": 11,
   "id": "59321dc2",
   "metadata": {},
   "outputs": [
    {
     "name": "stdout",
     "output_type": "stream",
     "text": [
      "\n",
      "Welch's t-test results:\n",
      "t-statistic: 0.0000\n",
      "p-value: 0.0000\n",
      "\n",
      "Welch's t-test results:\n",
      "t-statistic: 0.0000\n",
      "p-value: 0.0000\n",
      "since the P value is less than the significance value, we reject the null hypothesis, and conclude that with 95 % signicance level, that these two mean are difference\n"
     ]
    }
   ],
   "source": [
    "# Assuming the CSV has two columns named 'Group1' and 'Group2'\n",
    "\n",
    "boat_two = Boat_Tree_single.iloc[:, 1].dropna()\n",
    "boat_One_in_group = Boat_Three_Back.iloc[:, 1].dropna()\n",
    "\n",
    "significance_level = 0.05 # Testing level. \n",
    "\n",
    "# Perform Welch's t-test\n",
    "u_stat, p_value = mannwhitneyu(boat_two, boat_One_in_group, alternative='two-sided')\n",
    "\n",
    "# H_0 = boatOne - boatOne_groups >= 0\n",
    "u_stat_one, p_value_one = mannwhitneyu(boat_two, boat_One_in_group, alternative='less')\n",
    "\n",
    "\n",
    "print(\"\\nWelch's t-test results:\")\n",
    "print(f\"t-statistic: {u_stat:.4f}\")\n",
    "print(f\"p-value: {p_value:.4f}\")\n",
    "\n",
    "print(\"\\nWelch's t-test results:\")\n",
    "print(f\"t-statistic: {u_stat_one:.4f}\")\n",
    "print(f\"p-value: {p_value_one:.4f}\")\n",
    "\n",
    "\n",
    "\n",
    "if p_value < significance_level: \n",
    "    print(\"since the P value is less than the significance value, we reject the null hypothesis, and conclude that with 95 % signicance level, that these two mean are difference\")\n",
    "else:\n",
    "     print(\"since the P value is greater than the significance value, we cannot reject the null hypothesis\")\n"
   ]
  },
  {
   "cell_type": "markdown",
   "id": "4c9e8a5e",
   "metadata": {},
   "source": [
    "## 6: Two-sided alternative hypothesis (INVALID)\n",
    "###  Is the sailing speed the same, whether boat 1 or boat 2 is in front? \n",
    "Null hypothesis is defined to be: These two mean value are not different from each other. <br>\n",
    "(μ) == mean <br>\n",
    "H_0 μ_1 - μ_2 = 0 <br>\n",
    "H_1 = μ_1 - μ_2 ≠ 0 <br>\n"
   ]
  },
  {
   "cell_type": "code",
   "execution_count": 12,
   "id": "6dd79f85",
   "metadata": {},
   "outputs": [
    {
     "ename": "NameError",
     "evalue": "name 'groupboat' is not defined",
     "output_type": "error",
     "traceback": [
      "\u001b[0;31m---------------------------------------------------------------------------\u001b[0m",
      "\u001b[0;31mNameError\u001b[0m                                 Traceback (most recent call last)",
      "Cell \u001b[0;32mIn[12], line 2\u001b[0m\n\u001b[1;32m      1\u001b[0m \u001b[38;5;66;03m# Assuming the CSV has two columns named 'Group1' and 'Group2'\u001b[39;00m\n\u001b[0;32m----> 2\u001b[0m boat_One_group \u001b[38;5;241m=\u001b[39m \u001b[43mgroupboat\u001b[49m\u001b[38;5;241m.\u001b[39miloc[:, \u001b[38;5;241m0\u001b[39m]\u001b[38;5;241m.\u001b[39mdropna()\n\u001b[1;32m      3\u001b[0m boat_Two_in_group \u001b[38;5;241m=\u001b[39m groupboat\u001b[38;5;241m.\u001b[39miloc[:, \u001b[38;5;241m1\u001b[39m]\u001b[38;5;241m.\u001b[39mdropna()\n\u001b[1;32m      5\u001b[0m significance_level \u001b[38;5;241m=\u001b[39m \u001b[38;5;241m0.05\u001b[39m \u001b[38;5;66;03m# Testing level. \u001b[39;00m\n",
      "\u001b[0;31mNameError\u001b[0m: name 'groupboat' is not defined"
     ]
    }
   ],
   "source": [
    "# Assuming the CSV has two columns named 'Group1' and 'Group2'\n",
    "boat_One_group = groupboat.iloc[:, 0].dropna()\n",
    "boat_Two_in_group = groupboat.iloc[:, 1].dropna()\n",
    "\n",
    "significance_level = 0.05 # Testing level. \n",
    "\n",
    "# Perform Welch's t-test\n",
    "u_stat, p_value = mannwhitneyu(boat_One_group, boat_Two_in_group, alternative='two-sided')\n",
    "\n",
    "print(\"\\nWelch's t-test results:\")\n",
    "print(f\"t-statistic: {u_stat:.4f}\")\n",
    "print(f\"p-value: {p_value:.4f}\")\n",
    "\n",
    "if p_value < significance_level: \n",
    "    print(\"since the P value is less than the significance value, we reject the null hypothesis, and conclude that with 95 % signicance level, that these two mean are difference\")\n",
    "else:\n",
    "     print(\"since the P value is greater than the significance value, we cannot reject the null hypothesis\")\n"
   ]
  }
 ],
 "metadata": {
  "kernelspec": {
   "display_name": "Python 3",
   "language": "python",
   "name": "python3"
  },
  "language_info": {
   "codemirror_mode": {
    "name": "ipython",
    "version": 3
   },
   "file_extension": ".py",
   "mimetype": "text/x-python",
   "name": "python",
   "nbconvert_exporter": "python",
   "pygments_lexer": "ipython3",
   "version": "3.12.0"
  }
 },
 "nbformat": 4,
 "nbformat_minor": 5
}
