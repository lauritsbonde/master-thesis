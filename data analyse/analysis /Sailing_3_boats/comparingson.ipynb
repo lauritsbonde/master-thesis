{
 "cells": [
  {
   "cell_type": "markdown",
   "id": "quarterly-report",
   "metadata": {},
   "source": [
    "# MannWhitney U-test (not asumming Guassian distribution) "
   ]
  },
  {
   "cell_type": "code",
   "execution_count": 1,
   "id": "concerned-renewal",
   "metadata": {},
   "outputs": [],
   "source": [
    "import pandas as pd\n",
    "import numpy as np\n",
    "import matplotlib.pyplot as plt\n",
    "from scipy.stats import mannwhitneyu\n",
    "\n",
    "%matplotlib inline"
   ]
  },
  {
   "cell_type": "code",
   "execution_count": 2,
   "id": "elementary-negative",
   "metadata": {},
   "outputs": [],
   "source": [
    "# \n",
    "Boat_One_OneTwoTree_diagonal = pd.read_csv(\"../../data/3_boats/diagonalt/boat_1(123).csv\", sep=\";\")\n",
    "Boat_Tree_OneTwoTree_diagonal = pd.read_csv(\"../../data/3_boats/diagonalt/boat_3(123).csv\", sep=\";\")\n",
    "Boat_One_TreeTwoOne_diagonal = pd.read_csv(\"../../data/3_boats/diagonalt/boat_1(321).csv\", sep=\";\")\n",
    "Boat_Tree_TreeTwoOne_diagonal = pd.read_csv(\"../../data/3_boats/diagonalt/boat_3(321).csv\", sep=\";\")\n",
    "\n",
    "Boat_One_OneTwoTree_offset = pd.read_csv(\"../../data/3_boats/offsetline/boat_1(123_left).csv\", sep=\";\")\n",
    "Boat_Tree_OneTwoTree_offset = pd.read_csv(\"../../data/3_boats/offsetline/boat_3(123_left).csv\", sep=\";\")\n",
    "Boat_One_TreeTwoOne_offset = pd.read_csv(\"../../data/3_boats/offsetline/boat_1(123_right).csv\", sep=\";\")\n",
    "Boat_Tree_TreeTwoOne_offset = pd.read_csv(\"../../data/3_boats/offsetline/boat_3(123_right).csv\", sep=\";\")\n",
    "\n",
    "Boat_One_OneTwoTree_triangle = pd.read_csv(\"../../data/3_boats/triangle/boat_1(123).csv\", sep=\";\")\n",
    "Boat_Tree_OneTwoTree_triangle = pd.read_csv(\"../../data/3_boats/triangle/boat_3(123).csv\", sep=\";\")\n",
    "Boat_One_TwoOneTree_triangle = pd.read_csv(\"../../data/3_boats/triangle/boat_1(213).csv\", sep=\";\")\n",
    "Boat_Tree_TwoOneTree_triangle = pd.read_csv(\"../../data/3_boats/triangle/boat_3(213).csv\", sep=\";\")\n",
    "\n"
   ]
  },
  {
   "cell_type": "markdown",
   "id": "94ac6e5c",
   "metadata": {},
   "source": [
    "## 1: Two-sided alternative hypothesis \n",
    "### Does boat in diagonal formation use less energy than when they are in a offset formation? \n",
    "\n",
    "Null hypothesis is defined to be: These two mean value are not different from each other. <br>\n",
    "(μ) == mean <br>\n",
    "H_0 μ_1 - μ_2 = 0 <br>\n",
    "H_1 = μ_1 - μ_2 ≠ 0 <br>"
   ]
  },
  {
   "cell_type": "code",
   "execution_count": 3,
   "id": "respected-minimum",
   "metadata": {},
   "outputs": [
    {
     "name": "stdout",
     "output_type": "stream",
     "text": [
      "\n",
      "Welch's t-test results:\n",
      "t-statistic: 4784.5000\n",
      "p-value: 0.0000\n",
      "\n",
      "Welch's t-test results:\n",
      "t-statistic: 4784.5000\n",
      "p-value_one: 1.0000\n",
      "since the P value is greater than the significance value, we cannot reject the null hypothesis\n"
     ]
    }
   ],
   "source": [
    "# Assuming the CSV has two columns named 'Group1' and 'Group2'\n",
    "\n",
    "# Assuming the CSV has two columns named 'Group1' and 'Group2'\n",
    "boat_one_single = Boat_One_OneTwoTree_diagonal.iloc[:, 1].dropna().abs()\n",
    "boat_back_front = Boat_One_OneTwoTree_offset.iloc[:, 1].dropna().abs()\n",
    "\n",
    "significance_level = 0.05 # Testing level. \n",
    "\n",
    "# Perform Welch's t-test\n",
    "u_stat, p_value = mannwhitneyu(boat_one_single, boat_back_front, alternative='two-sided')\n",
    "\n",
    "\n",
    "u_stat_one, p_value_one = mannwhitneyu(boat_one_single, boat_back_front, alternative='greater') # h_0 = x - y <= 0, (h_0 = er x mindre end y)  ved reject, er x større end y\n",
    "\n",
    "#u_stat_one, p_value_one = mannwhitneyu([1,2,3,4], [10,11,12,13,14], alternative='greater') # h_0 = x - y <= 0, (h_0 = er x mindre end y)  ved reject, er x større end y\n",
    "\n",
    "\n",
    "\n",
    "print(\"\\nWelch's t-test results:\")\n",
    "print(f\"t-statistic: {u_stat:.4f}\")\n",
    "print(f\"p-value: {p_value:.4f}\")\n",
    "\n",
    "print(\"\\nWelch's t-test results:\")\n",
    "print(f\"t-statistic: {u_stat_one:.4f}\")\n",
    "print(f\"p-value_one: {p_value_one:.4f}\")\n",
    "\n",
    "\n",
    "\n",
    "if p_value_one < significance_level: \n",
    "    print(\"since the P value is less than the significance value, we reject the null hypothesis, and conclude that with 95 % signicance level, that these two mean are difference\")\n",
    "else:\n",
    "     print(\"since the P value is greater than the significance value, we cannot reject the null hypothesis\")"
   ]
  },
  {
   "cell_type": "markdown",
   "id": "cd976802",
   "metadata": {},
   "source": [
    "## 2: Two-sided alternative hypothesis \n",
    "### Does boat in diagonal formation use less energy than when they are in a triangle formation? \n",
    "Null hypothesis is defined to be: These two mean value are not different from each other. <br>\n",
    "(μ) == mean <br>\n",
    "H_0 μ_1 - μ_2 = 0 <br>\n",
    "H_1 = μ_1 - μ_2 ≠ 0 <br>"
   ]
  },
  {
   "cell_type": "code",
   "execution_count": 4,
   "id": "0adb21a2",
   "metadata": {},
   "outputs": [
    {
     "name": "stdout",
     "output_type": "stream",
     "text": [
      "\n",
      "Welch's t-test results:\n",
      "t-statistic: 10051.0000\n",
      "p-value: 0.0007\n",
      "\n",
      "Welch's t-test results:\n",
      "t-statistic: 10051.0000\n",
      "p-value_one: 0.9997\n",
      "since the P value is less than the significance value, we reject the null hypothesis, and conclude that with 95 % signicance level, that these two mean are difference\n"
     ]
    }
   ],
   "source": [
    "# Assuming the CSV has two columns named 'Group1' and 'Group2'\n",
    "\n",
    "# Assuming the CSV has two columns named 'Group1' and 'Group2'\n",
    "boat_one_single = Boat_One_OneTwoTree_diagonal.iloc[:, 1].dropna().abs()\n",
    "boat_back_front = Boat_One_TwoOneTree_triangle.iloc[:, 1].dropna().abs()\n",
    "\n",
    "significance_level = 0.05 # Testing level. \n",
    "\n",
    "# Perform Welch's t-test\n",
    "u_stat, p_value = mannwhitneyu(boat_one_single, boat_back_front, alternative='two-sided')\n",
    "\n",
    "# H_0 = boatOne - boatOne_groups >= 0\n",
    "u_stat_one, p_value_one = mannwhitneyu(boat_one_single, boat_back_front, alternative='greater') # h_0 = x - y <= 0, (h_0 = er x mindre end y) ved reject, er x større end y\n",
    "\n",
    "\n",
    "print(\"\\nWelch's t-test results:\")\n",
    "print(f\"t-statistic: {u_stat:.4f}\")\n",
    "print(f\"p-value: {p_value:.4f}\")\n",
    "\n",
    "print(\"\\nWelch's t-test results:\")\n",
    "print(f\"t-statistic: {u_stat_one:.4f}\")\n",
    "print(f\"p-value_one: {p_value_one:.4f}\")\n",
    "\n",
    "\n",
    "if p_value < significance_level: \n",
    "    print(\"since the P value is less than the significance value, we reject the null hypothesis, and conclude that with 95 % signicance level, that these two mean are difference\")\n",
    "else:\n",
    "     print(\"since the P value is greater than the significance value, we cannot reject the null hypothesis\")"
   ]
  },
  {
   "cell_type": "markdown",
   "id": "b579b4cd",
   "metadata": {},
   "source": [
    "## 3: Two-sided alternative hypothesis \n",
    "### Does boat 1 + 3 power in diagonal greater than boat 1 +3 power in offset line formation? \n",
    "Null hypothesis is defined to be: These two mean value are not different from each other. <br>\n",
    "(μ) == mean <br>\n",
    "H_0 μ_1 - μ_2 = 0 <br>\n",
    "H_1 = μ_1 - μ_2 ≠ 0 <br>"
   ]
  },
  {
   "cell_type": "code",
   "execution_count": 5,
   "id": "0cbd5a54",
   "metadata": {},
   "outputs": [
    {
     "name": "stdout",
     "output_type": "stream",
     "text": [
      "\n",
      "Welch's t-test results:\n",
      "t-statistic: 4799.0000\n",
      "p-value: 0.0000\n",
      "\n",
      "Welch's t-test results:\n",
      "t-statistic: 4799.0000\n",
      "p-value_one: 1.0000\n",
      "since the P value is less than the significance value, we reject the null hypothesis, and conclude that with 95 % signicance level, that these two mean are difference\n"
     ]
    }
   ],
   "source": [
    "\n",
    "# Diagonal formation: \n",
    "boat_one_diagonal = Boat_One_OneTwoTree_diagonal.iloc[:, 1].dropna().abs()\n",
    "boat_tree_diagonal = Boat_Tree_OneTwoTree_diagonal.iloc[:, 1].dropna().abs()\n",
    "acc_diagonal = (boat_one_diagonal + boat_tree_diagonal).dropna()\n",
    "\n",
    "\n",
    "boat_one_offsetline = Boat_One_OneTwoTree_offset.iloc[:, 1].dropna().abs()\n",
    "boat_tree_offsetline = Boat_Tree_OneTwoTree_offset.iloc[:, 1].dropna().abs()\n",
    "acc_offsetline = (boat_one_offsetline + boat_tree_offsetline).dropna()\n",
    "\n",
    "\n",
    "significance_level = 0.05 # Testing level. \n",
    "\n",
    "# Perform Welch's t-test\n",
    "u_stat, p_value = mannwhitneyu(acc_diagonal, acc_offsetline, alternative='two-sided')\n",
    "\n",
    "u_stat_one, p_value_one = mannwhitneyu(acc_diagonal, acc_offsetline, alternative='greater') # h_0 = x - y <= 0, (h_0 = er x mindre end y) ved reject, er x større end y\n",
    "\n",
    "\n",
    "print(\"\\nWelch's t-test results:\")\n",
    "print(f\"t-statistic: {u_stat:.4f}\")\n",
    "print(f\"p-value: {p_value:.4f}\")\n",
    "\n",
    "print(\"\\nWelch's t-test results:\")\n",
    "print(f\"t-statistic: {u_stat_one:.4f}\")\n",
    "print(f\"p-value_one: {p_value_one:.4f}\")\n",
    "\n",
    "\n",
    "\n",
    "if p_value < significance_level: \n",
    "    print(\"since the P value is less than the significance value, we reject the null hypothesis, and conclude that with 95 % signicance level, that these two mean are difference\")\n",
    "else:\n",
    "     print(\"since the P value is greater than the significance value, we cannot reject the null hypothesis\")"
   ]
  },
  {
   "cell_type": "markdown",
   "id": "0f6f5c76",
   "metadata": {},
   "source": [
    "## 4: Two-sided alternative hypothesis \n",
    "### Does boat 1 + 3 power in diagonal greater than boat 1 +3 power in offset line formation?  \n",
    "alone?\n",
    "\n",
    "Null hypothesis is defined to be: These two mean value are not different from each other. <br>\n",
    "(μ) == mean <br>\n",
    "H_0 μ_1 - μ_2 = 0 <br>\n",
    "H_1 = μ_1 - μ_2 ≠ 0 <br>"
   ]
  },
  {
   "cell_type": "code",
   "execution_count": 6,
   "id": "064087f0",
   "metadata": {},
   "outputs": [
    {
     "name": "stdout",
     "output_type": "stream",
     "text": [
      "\n",
      "Welch's t-test results:\n",
      "t-statistic: 24563.5000\n",
      "p-value: 0.0000\n",
      "\n",
      "Welch's t-test results:\n",
      "t-statistic: 24563.5000\n",
      "p-value_one: 0.0000\n",
      "since the P value is less than the significance value, we reject the null hypothesis, and conclude that with 95 % signicance level, that these two mean are difference\n"
     ]
    }
   ],
   "source": [
    "\n",
    "# Diagonal formation: \n",
    "boat_one_diagonal = Boat_One_OneTwoTree_diagonal.iloc[:, 1].dropna().abs()\n",
    "boat_tree_diagonal = Boat_Tree_OneTwoTree_diagonal.iloc[:, 1].dropna().abs()\n",
    "acc_diagonal = (boat_one_diagonal + boat_tree_diagonal).dropna()\n",
    "\n",
    "\n",
    "boat_one_triangle = Boat_One_TwoOneTree_triangle.iloc[:, 1].dropna().abs()\n",
    "boat_tree_triangle = Boat_Tree_TwoOneTree_triangle.iloc[:, 1].dropna().abs()\n",
    "acc_triangle = (boat_one_triangle + boat_tree_triangle).dropna()\n",
    "\n",
    "'''\n",
    "Boat_One_OneTwoTree_triangle = pd.read_csv(\"../../data/3_boats/triangle/boat_1(123).csv\", sep=\";\")\n",
    "Boat_Tree_OneTwoTree_triangle = pd.read_csv(\"../../data/3_boats/triangle/boat_3(123).csv\", sep=\";\")\n",
    "Boat_One_TwoOneTree_triangle = pd.read_csv(\"../../data/3_boats/triangle/boat_1(213).csv\", sep=\";\")\n",
    "Boat_Tree_TwoOneTree_triangle = pd.read_csv(\"../../data/3_boats/triangle/boat_3(213).csv\", sep=\";\")\n",
    "'''\n",
    "\n",
    "significance_level = 0.05 # Testing level. \n",
    "\n",
    "# Perform Welch's t-test\n",
    "u_stat, p_value = mannwhitneyu(acc_diagonal, acc_triangle, alternative='two-sided')\n",
    "\n",
    "# H_0 = boatOne - boatOne_groups >= 0\n",
    "u_stat_one, p_value_one = mannwhitneyu(acc_diagonal, acc_triangle, alternative='greater') # h_0 = x - y <= 0, (h_0 = er x mindre end y) ved reject, er x større end y\n",
    "\n",
    "\n",
    "print(\"\\nWelch's t-test results:\")\n",
    "print(f\"t-statistic: {u_stat:.4f}\")\n",
    "print(f\"p-value: {p_value:.4f}\")\n",
    "\n",
    "print(\"\\nWelch's t-test results:\")\n",
    "print(f\"t-statistic: {u_stat_one:.4f}\")\n",
    "print(f\"p-value_one: {p_value_one:.4f}\")\n",
    "\n",
    "\n",
    "if p_value < significance_level: \n",
    "    print(\"since the P value is less than the significance value, we reject the null hypothesis, and conclude that with 95 % signicance level, that these two mean are difference\")\n",
    "else:\n",
    "     print(\"since the P value is greater than the significance value, we cannot reject the null hypothesis\")"
   ]
  },
  {
   "cell_type": "markdown",
   "id": "78806ceb",
   "metadata": {},
   "source": [
    "## 5: Two-sided alternative hypothesis \n",
    "###   is there a difference in Boat 3 power used when it in group of 2 than 3? \n",
    "Null hypothesis is defined to be: These two mean value are not different from each other. <br>\n",
    "(μ) == mean <br>\n",
    "H_0 μ_1 - μ_2 = 0 <br>\n",
    "H_1 = μ_1 - μ_2 ≠ 0 <br>\n"
   ]
  },
  {
   "cell_type": "code",
   "execution_count": 7,
   "id": "59321dc2",
   "metadata": {},
   "outputs": [
    {
     "name": "stdout",
     "output_type": "stream",
     "text": [
      "\n",
      "Welch's t-test results:\n",
      "t-statistic: 257.0000\n",
      "p-value: 0.0000\n",
      "\n",
      "Welch's t-test results:\n",
      "t-statistic: 257.0000\n",
      "p-value_one: 1.0000\n",
      "since the P value is less than the significance value, we reject the null hypothesis, and conclude that with 95 % signicance level, that these two mean are difference\n"
     ]
    }
   ],
   "source": [
    "# Diagonal formation: \n",
    "\n",
    "boat_one_triangle = Boat_One_TwoOneTree_triangle.iloc[:, 1].dropna().abs()\n",
    "boat_tree_triangle = Boat_Tree_TwoOneTree_triangle.iloc[:, 1].dropna().abs()\n",
    "acc_triangle = (boat_one_triangle + boat_tree_triangle).dropna()\n",
    "\n",
    "boat_one_offsetline = Boat_One_OneTwoTree_offset.iloc[:, 1].dropna().abs()\n",
    "boat_tree_offsetline = Boat_Tree_OneTwoTree_offset.iloc[:, 1].dropna().abs()\n",
    "acc_offsetline = (boat_one_offsetline + boat_tree_offsetline).dropna()\n",
    "\n",
    "significance_level = 0.05 # Testing level. \n",
    "\n",
    "# Perform Welch's t-test\n",
    "u_stat, p_value = mannwhitneyu(acc_triangle, acc_offsetline, alternative='two-sided')\n",
    "\n",
    "# H_0 = boatOne - boatOne_groups >= 0\n",
    "u_stat_one, p_value_one = mannwhitneyu(acc_triangle, acc_offsetline, alternative='greater') # h_0 = x - y <= 0, (h_0 = er x mindre end y) ved reject, er x større end y\n",
    "\n",
    "\n",
    "print(\"\\nWelch's t-test results:\")\n",
    "print(f\"t-statistic: {u_stat:.4f}\")\n",
    "print(f\"p-value: {p_value:.4f}\")\n",
    "\n",
    "print(\"\\nWelch's t-test results:\")\n",
    "print(f\"t-statistic: {u_stat_one:.4f}\")\n",
    "print(f\"p-value_one: {p_value_one:.4f}\")\n",
    "\n",
    "\n",
    "if p_value < significance_level: \n",
    "    print(\"since the P value is less than the significance value, we reject the null hypothesis, and conclude that with 95 % signicance level, that these two mean are difference\")\n",
    "else:\n",
    "     print(\"since the P value is greater than the significance value, we cannot reject the null hypothesis\")"
   ]
  },
  {
   "cell_type": "markdown",
   "id": "4c9e8a5e",
   "metadata": {},
   "source": [
    "## 6: Two-sided alternative hypothesis (INVALID)\n",
    "###  is there a difference in Boat 3 power used when it in group of 2 than 3? \n",
    "Null hypothesis is defined to be: These two mean value are not different from each other. <br>\n",
    "(μ) == mean <br>\n",
    "H_0 μ_1 - μ_2 = 0 <br>\n",
    "H_1 = μ_1 - μ_2 ≠ 0 <br>\n"
   ]
  },
  {
   "cell_type": "code",
   "execution_count": 8,
   "id": "6dd79f85",
   "metadata": {},
   "outputs": [
    {
     "ename": "NameError",
     "evalue": "name 'Boat_One_Back' is not defined",
     "output_type": "error",
     "traceback": [
      "\u001b[0;31m---------------------------------------------------------------------------\u001b[0m",
      "\u001b[0;31mNameError\u001b[0m                                 Traceback (most recent call last)",
      "Cell \u001b[0;32mIn[8], line 21\u001b[0m\n\u001b[1;32m      1\u001b[0m \u001b[38;5;66;03m# Assuming the CSV has two columns named 'Group1' and 'Group2'\u001b[39;00m\n\u001b[1;32m      3\u001b[0m \u001b[38;5;124;03m'''\u001b[39;00m\n\u001b[1;32m      4\u001b[0m \u001b[38;5;124;03mBoat_One_single = pd.read_csv(\"../../data/3_boats/single/boat_1.csv\", sep=\";\")\u001b[39;00m\n\u001b[1;32m      5\u001b[0m \u001b[38;5;124;03mBoat_Tree_single = pd.read_csv(\"../../data/3_boats/single/boat_3.csv\", sep=\";\")\u001b[39;00m\n\u001b[0;32m   (...)\u001b[0m\n\u001b[1;32m     17\u001b[0m \u001b[38;5;124;03mBoat_Three_Back = pd.read_csv(\"../../data/boat_3_double_back.csv\", sep=\";\")\u001b[39;00m\n\u001b[1;32m     18\u001b[0m \u001b[38;5;124;03m'''\u001b[39;00m\n\u001b[0;32m---> 21\u001b[0m boat_one_group_of_two \u001b[38;5;241m=\u001b[39m \u001b[43mBoat_One_Back\u001b[49m\u001b[38;5;241m.\u001b[39miloc[:, \u001b[38;5;241m1\u001b[39m]\u001b[38;5;241m.\u001b[39mdropna()\u001b[38;5;241m.\u001b[39mabs()\n\u001b[1;32m     22\u001b[0m boat_One_in_group \u001b[38;5;241m=\u001b[39m Boat_One_TreeTwoOne\u001b[38;5;241m.\u001b[39miloc[:, \u001b[38;5;241m1\u001b[39m]\u001b[38;5;241m.\u001b[39mdropna()\u001b[38;5;241m.\u001b[39mabs()\n\u001b[1;32m     24\u001b[0m significance_level \u001b[38;5;241m=\u001b[39m \u001b[38;5;241m0.05\u001b[39m \u001b[38;5;66;03m# Testing level. \u001b[39;00m\n",
      "\u001b[0;31mNameError\u001b[0m: name 'Boat_One_Back' is not defined"
     ]
    }
   ],
   "source": [
    "# Assuming the CSV has two columns named 'Group1' and 'Group2'\n",
    "\n",
    "'''\n",
    "Boat_One_single = pd.read_csv(\"../../data/3_boats/single/boat_1.csv\", sep=\";\")\n",
    "Boat_Tree_single = pd.read_csv(\"../../data/3_boats/single/boat_3.csv\", sep=\";\")\n",
    "\n",
    "Boat_One_OneTwoTree = pd.read_csv(\"../../data/3_boats/diagonalt/boat_1(123).csv\", sep=\";\")\n",
    "Boat_Tree_OneTwoTree = pd.read_csv(\"../../data/3_boats/diagonalt/boat_3(123).csv\", sep=\";\")\n",
    "Boat_One_TreeTwoOne = pd.read_csv(\"../../data/3_boats/diagonalt/boat_1(321).csv\", sep=\";\")\n",
    "Boat_Tree_TreeTwoOne = pd.read_csv(\"../../data/3_boats/diagonalt/boat_3(321).csv\", sep=\";\")\n",
    "\n",
    "\n",
    "# Data for when two boat were sailing\n",
    "Boat_One_Front = pd.read_csv(\"../../data/Boat_1_FrontDoubleCurrent.csv\", sep=\";\")\n",
    "Boat_One_Back = pd.read_csv(\"../../data/boat_1_double_back.csv\", sep=\";\")\n",
    "Boat_Tree_Front = pd.read_csv(\"../../data/boat_3_double_front.csv\", sep=\";\")\n",
    "Boat_Three_Back = pd.read_csv(\"../../data/boat_3_double_back.csv\", sep=\";\")\n",
    "'''\n",
    "\n",
    "\n",
    "boat_one_group_of_two = Boat_One_Back.iloc[:, 1].dropna().abs()\n",
    "boat_One_in_group = Boat_One_TreeTwoOne.iloc[:, 1].dropna().abs()\n",
    "\n",
    "significance_level = 0.05 # Testing level. \n",
    "\n",
    "# Perform Welch's t-test\n",
    "u_stat, p_value = mannwhitneyu(boat_one_group_of_two, boat_One_in_group, alternative='two-sided')\n",
    "\n",
    "# H_0 = boatOne - boatOne_groups >= 0\n",
    "u_stat_one, p_value_one = mannwhitneyu(boat_one_group_of_two, boat_One_in_group, alternative='greater') # h_0 = x - y <= 0, (h_0 = er x mindre end y) \n",
    "\n",
    "\n",
    "print(\"\\nWelch's t-test results:\")\n",
    "print(f\"t-statistic: {u_stat:.4f}\")\n",
    "print(f\"p-value: {p_value:.4f}\")\n",
    "\n",
    "print(\"\\nWelch's t-test results:\")\n",
    "print(f\"t-statistic: {u_stat_one:.4f}\")\n",
    "print(f\"p-value_one: {p_value_one:.4f}\")\n",
    "\n",
    "\n",
    "\n",
    "if p_value_one < significance_level: \n",
    "    print(\"since the P value is less than the significance value, we reject the null hypothesis, and conclude that with 95 % signicance level, that these two mean are difference\")\n",
    "else:\n",
    "     print(\"since the P value is greater than the significance value, we cannot reject the null hypothesis\")"
   ]
  },
  {
   "cell_type": "code",
   "execution_count": null,
   "id": "ba8dc972",
   "metadata": {},
   "outputs": [],
   "source": []
  }
 ],
 "metadata": {
  "kernelspec": {
   "display_name": "Python 3",
   "language": "python",
   "name": "python3"
  },
  "language_info": {
   "codemirror_mode": {
    "name": "ipython",
    "version": 3
   },
   "file_extension": ".py",
   "mimetype": "text/x-python",
   "name": "python",
   "nbconvert_exporter": "python",
   "pygments_lexer": "ipython3",
   "version": "3.12.0"
  }
 },
 "nbformat": 4,
 "nbformat_minor": 5
}
