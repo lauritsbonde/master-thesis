{
 "cells": [
  {
   "cell_type": "markdown",
   "id": "quarterly-report",
   "metadata": {},
   "source": [
    "# MannWhitney U-test (not asumming Guassian distribution) "
   ]
  },
  {
   "cell_type": "code",
   "execution_count": 89,
   "id": "concerned-renewal",
   "metadata": {},
   "outputs": [],
   "source": [
    "import pandas as pd\n",
    "import numpy as np\n",
    "import matplotlib.pyplot as plt\n",
    "from scipy.stats import mannwhitneyu\n",
    "\n",
    "\n",
    "%matplotlib inline"
   ]
  },
  {
   "cell_type": "code",
   "execution_count": 90,
   "id": "elementary-negative",
   "metadata": {},
   "outputs": [],
   "source": [
    "# \n",
    "Boat_One_single = pd.read_csv(\"../../data/3_boats/single/boat_1.csv\", sep=\";\")\n",
    "Boat_Tree_single = pd.read_csv(\"../../data/3_boats/single/boat_3.csv\", sep=\";\")\n",
    "\n",
    "Boat_One_OneTwoTree = pd.read_csv(\"../../data/3_boats/diagonalt/boat_1(123).csv\", sep=\";\")\n",
    "Boat_Tree_OneTwoTree = pd.read_csv(\"../../data/3_boats/diagonalt/boat_3(123).csv\", sep=\";\")\n",
    "Boat_One_TreeTwoOne = pd.read_csv(\"../../data/3_boats/diagonalt/boat_1(321).csv\", sep=\";\")\n",
    "Boat_Tree_TreeTwoOne = pd.read_csv(\"../../data/3_boats/diagonalt/boat_3(321).csv\", sep=\";\")\n",
    "\n",
    "\n",
    "# Data for when two boat were sailing\n",
    "Boat_One_Front = pd.read_csv(\"../../data/Boat_1_FrontDoubleCurrent.csv\", sep=\";\")\n",
    "Boat_One_Back = pd.read_csv(\"../../data/boat_1_double_back.csv\", sep=\";\")\n",
    "Boat_Tree_Front = pd.read_csv(\"../../data/boat_3_double_front.csv\", sep=\";\")\n",
    "Boat_Three_Back = pd.read_csv(\"../../data/boat_3_double_back.csv\", sep=\";\")\n",
    "\n"
   ]
  },
  {
   "cell_type": "markdown",
   "id": "94ac6e5c",
   "metadata": {},
   "source": [
    "## 1: Two-sided alternative hypothesis \n",
    "### Is there a difference in boat 1 power used when boat one is sailing alone or is in a diagonal formation with another boat and boat 1 is front boat\n",
    "\n",
    "Null hypothesis is defined to be: These two mean value are not different from each other. <br>\n",
    "(μ) == mean <br>\n",
    "H_0 μ_1 - μ_2 = 0 <br>\n",
    "H_1 = μ_1 - μ_2 ≠ 0 <br>"
   ]
  },
  {
   "cell_type": "code",
   "execution_count": 91,
   "id": "suspended-genetics",
   "metadata": {},
   "outputs": [
    {
     "name": "stdout",
     "output_type": "stream",
     "text": [
      "0     3.54\n",
      "1     3.58\n",
      "2     3.68\n",
      "3     3.68\n",
      "4     3.68\n",
      "      ... \n",
      "94    4.69\n",
      "95    4.76\n",
      "96    4.74\n",
      "97    4.77\n",
      "98    3.49\n",
      "Name: currentMeasure, Length: 99, dtype: float64\n"
     ]
    }
   ],
   "source": [
    "\n",
    "# Assuming the CSV has two columns named 'Group1' and 'Group2'\n",
    "boatOneSingle = Boat_One_single.iloc[:, 1].dropna()\n",
    "Boat_One_front = Boat_One_OneTwoTree.iloc[:, 1].dropna().abs()\n",
    "\n",
    "headerOne = list(Boat_One_single.columns.values)[1]\n",
    "headerTWO = list(Boat_Tree_single.columns.values)[1]\n",
    "\n",
    "print(boatOneSingle)\n",
    "\n",
    "#print(boatOneSingle)\n",
    "significance_level = 0.05 # Testing level. "
   ]
  },
  {
   "cell_type": "code",
   "execution_count": 92,
   "id": "respected-minimum",
   "metadata": {},
   "outputs": [
    {
     "name": "stdout",
     "output_type": "stream",
     "text": [
      "\n",
      "Welch's t-test results:\n",
      "t-statistic: 11840.5000\n",
      "p-value: 0.0011\n",
      "\n",
      "Welch's t-test results:\n",
      "t-statistic: 11840.5000\n",
      "p-value: 0.0005\n"
     ]
    }
   ],
   "source": [
    "# Perform Welch's t-test\n",
    "u_stat, p_value = mannwhitneyu(boatOneSingle, Boat_One_front, alternative='two-sided')\n",
    "\n",
    "\n",
    "u_stat_one, p_value_one = mannwhitneyu(boatOneSingle, Boat_One_front, alternative='greater') # h_0 = x - y <= 0, (H_0 = x mindre end y)\n",
    "\n",
    "\n",
    "print(\"\\nWelch's t-test results:\")\n",
    "print(f\"t-statistic: {u_stat:.4f}\")\n",
    "print(f\"p-value: {p_value:.4f}\")\n",
    "\n",
    "print(\"\\nWelch's t-test results:\")\n",
    "print(f\"t-statistic: {u_stat_one:.4f}\")\n",
    "print(f\"p-value: {p_value_one:.4f}\")"
   ]
  },
  {
   "cell_type": "code",
   "execution_count": 93,
   "id": "b6044468",
   "metadata": {},
   "outputs": [
    {
     "name": "stdout",
     "output_type": "stream",
     "text": [
      "since the P value is less than the significance value, we reject the null hypothesis, and conclude that with 95 % signicance level, that these two mean are difference\n"
     ]
    }
   ],
   "source": [
    "if p_value_one < significance_level: \n",
    "    print(\"since the P value is less than the significance value, we reject the null hypothesis, and conclude that with 95 % signicance level, that these two mean are difference\")\n",
    "else:\n",
    "     print(\"since the P value is greater than the significance value, we cannot reject the null hypothesis\")\n"
   ]
  },
  {
   "cell_type": "markdown",
   "id": "cd976802",
   "metadata": {},
   "source": [
    "## 2: Two-sided alternative hypothesis \n",
    "###  Is there a difference in boat 3 power used when boat 3 is sailing alone or on a diagonal and boat 3 is front boat\n",
    "Null hypothesis is defined to be: These two mean value are not different from each other. <br>\n",
    "(μ) == mean <br>\n",
    "H_0 μ_1 - μ_2 = 0 <br>\n",
    "H_1 = μ_1 - μ_2 ≠ 0 <br>"
   ]
  },
  {
   "cell_type": "code",
   "execution_count": 94,
   "id": "875dfb5b",
   "metadata": {},
   "outputs": [],
   "source": [
    "\n",
    "# Assuming the CSV has two columns named 'Group1' and 'Group2'\n",
    "boat_tree_single = Boat_Tree_single.iloc[:, 1].dropna().abs()\n",
    "boat_tree_front = Boat_Tree_TreeTwoOne.iloc[:, 1].dropna().abs()\n",
    "\n",
    "significance_level = 0.05 # Testing level. "
   ]
  },
  {
   "cell_type": "code",
   "execution_count": 95,
   "id": "0adb21a2",
   "metadata": {},
   "outputs": [
    {
     "name": "stdout",
     "output_type": "stream",
     "text": [
      "\n",
      "Welch's t-test results:\n",
      "t-statistic: 86.0000\n",
      "p-value: 0.0000\n",
      "\n",
      "Welch's t-test results:\n",
      "t-statistic: 86.0000\n",
      "p-value: 1.0000\n"
     ]
    }
   ],
   "source": [
    "# Perform Welch's t-test\n",
    "u_stat, p_value = mannwhitneyu(boat_tree_single, boat_tree_front, alternative='two-sided')\n",
    "\n",
    "# H_0 = boatOne - boatOne_groups >= 0\n",
    "u_stat_one, p_value_one = mannwhitneyu(boat_tree_single, boat_tree_front, alternative='greater') # h_0 = x - y <= 0, (H_0 = x mindre end y)\n",
    "\n",
    "\n",
    "print(\"\\nWelch's t-test results:\")\n",
    "print(f\"t-statistic: {u_stat:.4f}\")\n",
    "print(f\"p-value: {p_value:.4f}\")\n",
    "\n",
    "print(\"\\nWelch's t-test results:\")\n",
    "print(f\"t-statistic: {u_stat_one:.4f}\")\n",
    "print(f\"p-value: {p_value_one:.4f}\")"
   ]
  },
  {
   "cell_type": "code",
   "execution_count": 96,
   "id": "15b05f94",
   "metadata": {},
   "outputs": [
    {
     "name": "stdout",
     "output_type": "stream",
     "text": [
      "since the P value is less than the significance value, we reject the null hypothesis, and conclude that with 95 % signicance level, that these two mean are difference\n"
     ]
    }
   ],
   "source": [
    "if p_value < significance_level: \n",
    "    print(\"since the P value is less than the significance value, we reject the null hypothesis, and conclude that with 95 % signicance level, that these two mean are difference\")\n",
    "else:\n",
    "     print(\"since the P value is greater than the significance value, we cannot reject the null hypothesis\")\n"
   ]
  },
  {
   "cell_type": "markdown",
   "id": "b579b4cd",
   "metadata": {},
   "source": [
    "## 3: Two-sided alternative hypothesis \n",
    "### Is there a difference in boat 1 power used when boat one is sailing alone or is in a diagonal formation with another boat and boat 1 is back boat\n",
    "Null hypothesis is defined to be: These two mean value are not different from each other. <br>\n",
    "(μ) == mean <br>\n",
    "H_0 μ_1 - μ_2 = 0 <br>\n",
    "H_1 = μ_1 - μ_2 ≠ 0 <br>"
   ]
  },
  {
   "cell_type": "code",
   "execution_count": 97,
   "id": "0cbd5a54",
   "metadata": {},
   "outputs": [
    {
     "name": "stdout",
     "output_type": "stream",
     "text": [
      "\n",
      "Welch's t-test results:\n",
      "t-statistic: 3230.5000\n",
      "p-value: 0.0000\n",
      "\n",
      "Welch's t-test results:\n",
      "t-statistic: 3230.5000\n",
      "p-value_one: 0.0000\n",
      "since the P value is less than the significance value, we reject the null hypothesis, and conclude that with 95 % signicance level, that these two mean are difference\n"
     ]
    }
   ],
   "source": [
    "\n",
    "# Assuming the CSV has two columns named 'Group1' and 'Group2'\n",
    "\n",
    "# Assuming the CSV has two columns named 'Group1' and 'Group2'\n",
    "boat_one_single = Boat_One_single.iloc[:, 1].dropna().abs()\n",
    "boat_back_front = Boat_One_TreeTwoOne.iloc[:, 1].dropna().abs()\n",
    "\n",
    "significance_level = 0.05 # Testing level. \n",
    "\n",
    "# Perform Welch's t-test\n",
    "u_stat, p_value = mannwhitneyu(boat_one_single, boat_back_front, alternative='two-sided')\n",
    "\n",
    "# H_0 = boatOne - boatOne_groups >= 0\n",
    "u_stat_one, p_value_one = mannwhitneyu(boat_one_single, boat_back_front, alternative='greater') # h_0 = x - y <= 0, (h_0 = er x mindre end y) \n",
    "\n",
    "\n",
    "print(\"\\nWelch's t-test results:\")\n",
    "print(f\"t-statistic: {u_stat:.4f}\")\n",
    "print(f\"p-value: {p_value:.4f}\")\n",
    "\n",
    "print(\"\\nWelch's t-test results:\")\n",
    "print(f\"t-statistic: {u_stat_one:.4f}\")\n",
    "print(f\"p-value_one: {p_value_one:.4f}\")\n",
    "\n",
    "\n",
    "\n",
    "if p_value < significance_level: \n",
    "    print(\"since the P value is less than the significance value, we reject the null hypothesis, and conclude that with 95 % signicance level, that these two mean are difference\")\n",
    "else:\n",
    "     print(\"since the P value is greater than the significance value, we cannot reject the null hypothesis\")\n"
   ]
  },
  {
   "cell_type": "markdown",
   "id": "0f6f5c76",
   "metadata": {},
   "source": [
    "## 4: Two-sided alternative hypothesis \n",
    "### Is there a difference in boat 3 power used when boat 3 is sailing alone or on a diagonal and boat 3 is back boat. \n",
    "alone?\n",
    "\n",
    "Null hypothesis is defined to be: These two mean value are not different from each other. <br>\n",
    "(μ) == mean <br>\n",
    "H_0 μ_1 - μ_2 = 0 <br>\n",
    "H_1 = μ_1 - μ_2 ≠ 0 <br>"
   ]
  },
  {
   "cell_type": "code",
   "execution_count": null,
   "id": "064087f0",
   "metadata": {},
   "outputs": [
    {
     "name": "stdout",
     "output_type": "stream",
     "text": [
      "\n",
      "Welch's t-test results:\n",
      "t-statistic: 431.0000\n",
      "p-value: 0.0000\n",
      "\n",
      "Welch's t-test results:\n",
      "t-statistic: 3230.5000\n",
      "p-value: 0.0000\n",
      "since the P value is less than the significance value, we reject the null hypothesis, and conclude that with 95 % signicance level, that these two mean are difference\n"
     ]
    }
   ],
   "source": [
    "# Assuming the CSV has two columns named 'Group1' and 'Group2'\n",
    "boat_tree_single = Boat_Tree_single.iloc[:, 1].dropna().abs()\n",
    "boat_tree_back = Boat_Tree_OneTwoTree.iloc[:, 1].dropna().abs()\n",
    "\n",
    "\n",
    "significance_level = 0.05 # Testing level. \n",
    "\n",
    "# Perform Welch's t-test\n",
    "u_stat, p_value = mannwhitneyu(boat_tree_single, boat_tree_back, alternative='two-sided')\n",
    "\n",
    "# h_0 = x - y <= 0\n",
    "u_stat_one, p_value_one = mannwhitneyu(boat_one_single, boat_back_front, alternative='greater') # h_0 = x - y <= 0, (h_0 = er x mindre end y) \n",
    "\n",
    "\n",
    "print(\"\\nWelch's t-test results:\")\n",
    "print(f\"t-statistic: {u_stat:.4f}\")\n",
    "print(f\"p-value: {p_value:.4f}\")\n",
    "\n",
    "print(\"\\nWelch's t-test results:\")\n",
    "print(f\"t-statistic: {u_stat_one:.4f}\")\n",
    "print(f\"p-value: {p_value_one:.4f}\")\n",
    "\n",
    "\n",
    "if p_value < significance_level: \n",
    "    print(\"since the P value is less than the significance value, we reject the null hypothesis, and conclude that with 95 % signicance level, that these two mean are difference\")\n",
    "else:\n",
    "     print(\"since the P value is greater than the significance value, we cannot reject the null hypothesis\")\n"
   ]
  },
  {
   "cell_type": "markdown",
   "id": "78806ceb",
   "metadata": {},
   "source": [
    "## 5: Two-sided alternative hypothesis \n",
    "###   is there a difference in Boat 3 power used when it in group of 2 than 3? \n",
    "Null hypothesis is defined to be: These two mean value are not different from each other. <br>\n",
    "(μ) == mean <br>\n",
    "H_0 μ_1 - μ_2 = 0 <br>\n",
    "H_1 = μ_1 - μ_2 ≠ 0 <br>\n"
   ]
  },
  {
   "cell_type": "code",
   "execution_count": 110,
   "id": "59321dc2",
   "metadata": {},
   "outputs": [
    {
     "name": "stdout",
     "output_type": "stream",
     "text": [
      "\n",
      "Welch's t-test results:\n",
      "t-statistic: 26355.0000\n",
      "p-value: 0.0275\n",
      "\n",
      "Welch's t-test results:\n",
      "t-statistic: 26355.0000\n",
      "p-value_one: 0.0137\n",
      "since the P value is less than the significance value, we reject the null hypothesis, and conclude that with 95 % signicance level, that these two mean are difference\n"
     ]
    }
   ],
   "source": [
    "# Assuming the CSV has two columns named 'Group1' and 'Group2'\n",
    "\n",
    "'''\n",
    "Boat_One_single = pd.read_csv(\"../../data/3_boats/single/boat_1.csv\", sep=\";\")\n",
    "Boat_Tree_single = pd.read_csv(\"../../data/3_boats/single/boat_3.csv\", sep=\";\")\n",
    "\n",
    "Boat_One_OneTwoTree = pd.read_csv(\"../../data/3_boats/diagonalt/boat_1(123).csv\", sep=\";\")\n",
    "Boat_Tree_OneTwoTree = pd.read_csv(\"../../data/3_boats/diagonalt/boat_3(123).csv\", sep=\";\")\n",
    "Boat_One_TreeTwoOne = pd.read_csv(\"../../data/3_boats/diagonalt/boat_1(321).csv\", sep=\";\")\n",
    "Boat_Tree_TreeTwoOne = pd.read_csv(\"../../data/3_boats/diagonalt/boat_3(321).csv\", sep=\";\")\n",
    "\n",
    "\n",
    "# Data for when two boat were sailing\n",
    "Boat_One_Front = pd.read_csv(\"../../data/Boat_1_FrontDoubleCurrent.csv\", sep=\";\")\n",
    "Boat_One_Back = pd.read_csv(\"../../data/boat_1_double_back.csv\", sep=\";\")\n",
    "Boat_Tree_Front = pd.read_csv(\"../../data/boat_3_double_front.csv\", sep=\";\")\n",
    "Boat_Three_Back = pd.read_csv(\"../../data/boat_3_double_back.csv\", sep=\";\")\n",
    "'''\n",
    "\n",
    "\n",
    "boat_one_group_of_two = Boat_One_Front.iloc[:, 1].dropna().abs()\n",
    "boat_One_in_group = Boat_One_OneTwoTree.iloc[:, 1].dropna().abs()\n",
    "\n",
    "significance_level = 0.05 # Testing level. \n",
    "\n",
    "# Perform Welch's t-test\n",
    "u_stat, p_value = mannwhitneyu(boat_one_group_of_two, boat_One_in_group, alternative='two-sided')\n",
    "\n",
    "# H_0 = boatOne - boatOne_groups >= 0\n",
    "u_stat_one, p_value_one = mannwhitneyu(boat_one_group_of_two, boat_One_in_group, alternative='greater') # h_0 = x - y <= 0, (h_0 = er x mindre end y) \n",
    "\n",
    "\n",
    "print(\"\\nWelch's t-test results:\")\n",
    "print(f\"t-statistic: {u_stat:.4f}\")\n",
    "print(f\"p-value: {p_value:.4f}\")\n",
    "\n",
    "print(\"\\nWelch's t-test results:\")\n",
    "print(f\"t-statistic: {u_stat_one:.4f}\")\n",
    "print(f\"p-value_one: {p_value_one:.4f}\")\n",
    "\n",
    "\n",
    "\n",
    "if p_value_one < significance_level: \n",
    "    print(\"since the P value is less than the significance value, we reject the null hypothesis, and conclude that with 95 % signicance level, that these two mean are difference\")\n",
    "else:\n",
    "     print(\"since the P value is greater than the significance value, we cannot reject the null hypothesis\")\n"
   ]
  },
  {
   "cell_type": "markdown",
   "id": "4c9e8a5e",
   "metadata": {},
   "source": [
    "## 6: Two-sided alternative hypothesis \n",
    "###  is there a difference in Boat 3 power used when it in group of 2 than 3? \n",
    "Null hypothesis is defined to be: These two mean value are not different from each other. <br>\n",
    "(μ) == mean <br>\n",
    "H_0 μ_1 - μ_2 = 0 <br>\n",
    "H_1 = μ_1 - μ_2 ≠ 0 <br>\n"
   ]
  },
  {
   "cell_type": "code",
   "execution_count": 109,
   "id": "6dd79f85",
   "metadata": {},
   "outputs": [
    {
     "name": "stdout",
     "output_type": "stream",
     "text": [
      "\n",
      "Welch's t-test results:\n",
      "t-statistic: 10956.0000\n",
      "p-value: 0.0000\n",
      "\n",
      "Welch's t-test results:\n",
      "t-statistic: 10956.0000\n",
      "p-value_one: 0.0000\n",
      "since the P value is less than the significance value, we reject the null hypothesis, and conclude that with 95 % signicance level, that these two mean are difference\n"
     ]
    }
   ],
   "source": [
    "# Assuming the CSV has two columns named 'Group1' and 'Group2'\n",
    "\n",
    "'''\n",
    "Boat_One_single = pd.read_csv(\"../../data/3_boats/single/boat_1.csv\", sep=\";\")\n",
    "Boat_Tree_single = pd.read_csv(\"../../data/3_boats/single/boat_3.csv\", sep=\";\")\n",
    "\n",
    "Boat_One_OneTwoTree = pd.read_csv(\"../../data/3_boats/diagonalt/boat_1(123).csv\", sep=\";\")\n",
    "Boat_Tree_OneTwoTree = pd.read_csv(\"../../data/3_boats/diagonalt/boat_3(123).csv\", sep=\";\")\n",
    "Boat_One_TreeTwoOne = pd.read_csv(\"../../data/3_boats/diagonalt/boat_1(321).csv\", sep=\";\")\n",
    "Boat_Tree_TreeTwoOne = pd.read_csv(\"../../data/3_boats/diagonalt/boat_3(321).csv\", sep=\";\")\n",
    "\n",
    "\n",
    "# Data for when two boat were sailing\n",
    "Boat_One_Front = pd.read_csv(\"../../data/Boat_1_FrontDoubleCurrent.csv\", sep=\";\")\n",
    "Boat_One_Back = pd.read_csv(\"../../data/boat_1_double_back.csv\", sep=\";\")\n",
    "Boat_Tree_Front = pd.read_csv(\"../../data/boat_3_double_front.csv\", sep=\";\")\n",
    "Boat_Three_Back = pd.read_csv(\"../../data/boat_3_double_back.csv\", sep=\";\")\n",
    "'''\n",
    "\n",
    "\n",
    "boat_one_group_of_two = Boat_One_Back.iloc[:, 1].dropna().abs()\n",
    "boat_One_in_group = Boat_One_TreeTwoOne.iloc[:, 1].dropna().abs()\n",
    "\n",
    "significance_level = 0.05 # Testing level. \n",
    "\n",
    "# Perform Welch's t-test\n",
    "u_stat, p_value = mannwhitneyu(boat_one_group_of_two, boat_One_in_group, alternative='two-sided')\n",
    "\n",
    "# H_0 = boatOne - boatOne_groups >= 0\n",
    "u_stat_one, p_value_one = mannwhitneyu(boat_one_group_of_two, boat_One_in_group, alternative='greater') # h_0 = x - y <= 0, (h_0 = er x mindre end y) \n",
    "\n",
    "\n",
    "print(\"\\nWelch's t-test results:\")\n",
    "print(f\"t-statistic: {u_stat:.4f}\")\n",
    "print(f\"p-value: {p_value:.4f}\")\n",
    "\n",
    "print(\"\\nWelch's t-test results:\")\n",
    "print(f\"t-statistic: {u_stat_one:.4f}\")\n",
    "print(f\"p-value_one: {p_value_one:.4f}\")\n",
    "\n",
    "\n",
    "\n",
    "if p_value_one < significance_level: \n",
    "    print(\"since the P value is less than the significance value, we reject the null hypothesis, and conclude that with 95 % signicance level, that these two mean are difference\")\n",
    "else:\n",
    "     print(\"since the P value is greater than the significance value, we cannot reject the null hypothesis\")"
   ]
  },
  {
   "cell_type": "code",
   "execution_count": null,
   "id": "ba8dc972",
   "metadata": {},
   "outputs": [],
   "source": []
  }
 ],
 "metadata": {
  "kernelspec": {
   "display_name": "Python 3",
   "language": "python",
   "name": "python3"
  },
  "language_info": {
   "codemirror_mode": {
    "name": "ipython",
    "version": 3
   },
   "file_extension": ".py",
   "mimetype": "text/x-python",
   "name": "python",
   "nbconvert_exporter": "python",
   "pygments_lexer": "ipython3",
   "version": "3.12.0"
  }
 },
 "nbformat": 4,
 "nbformat_minor": 5
}
