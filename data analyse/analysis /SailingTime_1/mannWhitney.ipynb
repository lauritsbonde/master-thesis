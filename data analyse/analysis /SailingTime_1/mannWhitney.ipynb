{
 "cells": [
  {
   "cell_type": "markdown",
   "id": "quarterly-report",
   "metadata": {},
   "source": [
    "# MannWhitney U-test (not asumming Guassian distribution) "
   ]
  },
  {
   "cell_type": "code",
   "execution_count": 1,
   "id": "concerned-renewal",
   "metadata": {},
   "outputs": [],
   "source": [
    "import pandas as pd\n",
    "import numpy as np\n",
    "import matplotlib.pyplot as plt\n",
    "from scipy.stats import mannwhitneyu\n",
    "\n",
    "\n",
    "%matplotlib inline"
   ]
  },
  {
   "cell_type": "code",
   "execution_count": 2,
   "id": "elementary-negative",
   "metadata": {},
   "outputs": [
    {
     "name": "stdout",
     "output_type": "stream",
     "text": [
      "   Baad 1 (sec)  Baad 3 (sec)\n",
      "0            32            25\n",
      "1            30            26\n",
      "2            30            27\n",
      "3            27            31\n",
      "   boat 1 Front (seconds)   boat 3 front (second) \n",
      "0                       29                      28\n",
      "1                       29                      29\n",
      "2                       29                      28\n",
      "3                       28                      29\n",
      "4                       29                      29\n"
     ]
    }
   ],
   "source": [
    "# \n",
    "singleRun = pd.read_csv(\"../../data/singleRun.csv\", sep=\";\")\n",
    "groupboat = pd.read_csv(\"../../data/Groupboat.csv\", sep=\";\")\n",
    "\n",
    "print(singleRun.head())\n",
    "print(groupboat.head())\n"
   ]
  },
  {
   "cell_type": "markdown",
   "id": "94ac6e5c",
   "metadata": {},
   "source": [
    "## 1: Two-sided alternative hypothesis \n",
    "###  Is there a difference in the sailing time of boat 1 and boat 2? Meaning, can we consider they sail at the same speed? \n",
    "\n",
    "Null hypothesis is defined to be: These two mean value are not different from each other. <br>\n",
    "(μ) == mean <br>\n",
    "H_0 μ_1 - μ_2 = 0 <br>\n",
    "H_1 = μ_1 - μ_2 ≠ 0 <br>"
   ]
  },
  {
   "cell_type": "code",
   "execution_count": 16,
   "id": "suspended-genetics",
   "metadata": {},
   "outputs": [
    {
     "name": "stdout",
     "output_type": "stream",
     "text": [
      "Baad 1 (sec)\n"
     ]
    }
   ],
   "source": [
    "\n",
    "# Assuming the CSV has two columns named 'Group1' and 'Group2'\n",
    "boat_one = singleRun.iloc[:, 0].dropna()\n",
    "boat_two = singleRun.iloc[:, 1].dropna()\n",
    "\n",
    "headerOne = list(singleRun.columns.values)[0]\n",
    "headerTWO = list(singleRun.columns.values)[1]\n",
    "\n",
    "\n",
    "print(headerOne)\n",
    "significance_level = 0.05 # Testing level. "
   ]
  },
  {
   "cell_type": "code",
   "execution_count": null,
   "id": "respected-minimum",
   "metadata": {},
   "outputs": [
    {
     "name": "stdout",
     "output_type": "stream",
     "text": [
      "\n",
      "Welch's t-test results:\n",
      "t-statistic: 18.0000\n",
      "p-value: 1.0000\n"
     ]
    }
   ],
   "source": [
    "# Perform Welch's t-test\n",
    "u_stat, p_value = mannwhitneyu(boat_one, boat_two, alternative='two-sided')\n",
    "\n",
    "print(\"\\nWelch's t-test results:\")\n",
    "print(f\"t-statistic: {u_stat:.4f}\")\n",
    "print(f\"p-value: {p_value:.4f}\")"
   ]
  },
  {
   "cell_type": "markdown",
   "id": "elegant-precipitation",
   "metadata": {},
   "source": [
    "# \n"
   ]
  },
  {
   "cell_type": "code",
   "execution_count": 21,
   "id": "b6044468",
   "metadata": {},
   "outputs": [
    {
     "name": "stdout",
     "output_type": "stream",
     "text": [
      "since the P value is greater than the significance value, we cannot reject the null hypothesis\n"
     ]
    }
   ],
   "source": [
    "if p_value < significance_level: \n",
    "    print(\"since the P value is less than the significance value, we reject the null hypothesis, and conclude that with 95 % signicance level, that these two mean are difference\")\n",
    "else:\n",
    "     print(\"since the P value is greater than the significance value, we cannot reject the null hypothesis\")\n"
   ]
  },
  {
   "cell_type": "markdown",
   "id": "cd976802",
   "metadata": {},
   "source": [
    "## 2: Two-sided alternative hypothesis \n",
    "###  Does boat 1 sail faster or slower, if the boat is in front of the boat, where boat 2 is attached at the back compared to when it is sailing alone. \n",
    "\n",
    "Null hypothesis is defined to be: These two mean value are not different from each other. <br>\n",
    "(μ) == mean <br>\n",
    "H_0 μ_1 - μ_2 = 0 <br>\n",
    "H_1 = μ_1 - μ_2 ≠ 0 <br>"
   ]
  },
  {
   "cell_type": "code",
   "execution_count": 6,
   "id": "875dfb5b",
   "metadata": {},
   "outputs": [],
   "source": [
    "\n",
    "# Assuming the CSV has two columns named 'Group1' and 'Group2'\n",
    "boat_one = singleRun.iloc[:, 0].dropna()\n",
    "boat_One_in_group = groupboat.iloc[:, 0].dropna()\n",
    "\n",
    "significance_level = 0.05 # Testing level. "
   ]
  },
  {
   "cell_type": "code",
   "execution_count": 7,
   "id": "0adb21a2",
   "metadata": {},
   "outputs": [
    {
     "name": "stdout",
     "output_type": "stream",
     "text": [
      "\n",
      "Welch's t-test results:\n",
      "t-statistic: 30.0000\n",
      "p-value: 0.1565\n"
     ]
    }
   ],
   "source": [
    "# Perform Welch's t-test\n",
    "u_stat, p_value = mannwhitneyu(boat_one, boat_One_in_group, alternative='two-sided')\n",
    "\n",
    "print(\"\\nWelch's t-test results:\")\n",
    "print(f\"t-statistic: {u_stat:.4f}\")\n",
    "print(f\"p-value: {p_value:.4f}\")"
   ]
  },
  {
   "cell_type": "code",
   "execution_count": 8,
   "id": "15b05f94",
   "metadata": {},
   "outputs": [
    {
     "name": "stdout",
     "output_type": "stream",
     "text": [
      "since the P value is greater than the significance value, we cannot reject the null hypothesis\n"
     ]
    }
   ],
   "source": [
    "if p_value < significance_level: \n",
    "    print(\"since the P value is less than the significance value, we reject the null hypothesis, and conclude that with 95 % signicance level, that these two mean are difference\")\n",
    "else:\n",
    "     print(\"since the P value is greater than the significance value, we cannot reject the null hypothesis\")\n"
   ]
  },
  {
   "cell_type": "markdown",
   "id": "b579b4cd",
   "metadata": {},
   "source": [
    "## 3: Two-sided alternative hypothesis \n",
    "### Does boat 2 sail faster or slower, if the boat is in front and boat 1 is attached at the back compared to when it is sailing alone?\n",
    "\n",
    "Null hypothesis is defined to be: These two mean value are not different from each other. <br>\n",
    "(μ) == mean <br>\n",
    "H_0 μ_1 - μ_2 = 0 <br>\n",
    "H_1 = μ_1 - μ_2 ≠ 0 <br>"
   ]
  },
  {
   "cell_type": "code",
   "execution_count": 9,
   "id": "0cbd5a54",
   "metadata": {},
   "outputs": [
    {
     "name": "stdout",
     "output_type": "stream",
     "text": [
      "\n",
      "Welch's t-test results:\n",
      "t-statistic: 10.0000\n",
      "p-value: 0.1610\n",
      "since the P value is greater than the significance value, we cannot reject the null hypothesis\n"
     ]
    }
   ],
   "source": [
    "\n",
    "# Assuming the CSV has two columns named 'Group1' and 'Group2'\n",
    "boat_two = singleRun.iloc[:, 1].dropna()\n",
    "boat_Two_in_group = groupboat.iloc[:, 1].dropna()\n",
    "\n",
    "significance_level = 0.05 # Testing level. \n",
    "\n",
    "# Perform Welch's t-test\n",
    "u_stat, p_value = mannwhitneyu(boat_two, boat_Two_in_group, alternative='two-sided')\n",
    "\n",
    "print(\"\\nWelch's t-test results:\")\n",
    "print(f\"t-statistic: {u_stat:.4f}\")\n",
    "print(f\"p-value: {p_value:.4f}\")\n",
    "\n",
    "if p_value < significance_level: \n",
    "    print(\"since the P value is less than the significance value, we reject the null hypothesis, and conclude that with 95 % signicance level, that these two mean are difference\")\n",
    "else:\n",
    "     print(\"since the P value is greater than the significance value, we cannot reject the null hypothesis\")\n"
   ]
  },
  {
   "cell_type": "markdown",
   "id": "0f6f5c76",
   "metadata": {},
   "source": [
    "## 4: Two-sided alternative hypothesis \n",
    "###  Is there a difference between boat 1 sailing speed, when it attaches to boat 2, compared to when its sailing alone?\n",
    "\n",
    "Null hypothesis is defined to be: These two mean value are not different from each other. <br>\n",
    "(μ) == mean <br>\n",
    "H_0 μ_1 - μ_2 = 0 <br>\n",
    "H_1 = μ_1 - μ_2 ≠ 0 <br>"
   ]
  },
  {
   "cell_type": "code",
   "execution_count": 10,
   "id": "064087f0",
   "metadata": {},
   "outputs": [
    {
     "name": "stdout",
     "output_type": "stream",
     "text": [
      "\n",
      "Welch's t-test results:\n",
      "t-statistic: 28.0000\n",
      "p-value: 0.2633\n",
      "since the P value is greater than the significance value, we cannot reject the null hypothesis\n"
     ]
    }
   ],
   "source": [
    "# Assuming the CSV has two columns named 'Group1' and 'Group2'\n",
    "boat_two = singleRun.iloc[:, 0].dropna()\n",
    "boat_Two_in_group = groupboat.iloc[:, 1].dropna()\n",
    "\n",
    "significance_level = 0.05 # Testing level. \n",
    "\n",
    "# Perform Welch's t-test\n",
    "u_stat, p_value = mannwhitneyu(boat_two, boat_Two_in_group, alternative='two-sided')\n",
    "\n",
    "print(\"\\nWelch's t-test results:\")\n",
    "print(f\"t-statistic: {u_stat:.4f}\")\n",
    "print(f\"p-value: {p_value:.4f}\")\n",
    "\n",
    "if p_value < significance_level: \n",
    "    print(\"since the P value is less than the significance value, we reject the null hypothesis, and conclude that with 95 % signicance level, that these two mean are difference\")\n",
    "else:\n",
    "     print(\"since the P value is greater than the significance value, we cannot reject the null hypothesis\")\n"
   ]
  },
  {
   "cell_type": "markdown",
   "id": "78806ceb",
   "metadata": {},
   "source": [
    "## 5: Two-sided alternative hypothesis \n",
    "###  Is there a difference between the sailing speed of boat 2, when it attaches to boat 1, compared to when it is sailing alone? \n",
    "Null hypothesis is defined to be: These two mean value are not different from each other. <br>\n",
    "(μ) == mean <br>\n",
    "H_0 μ_1 - μ_2 = 0 <br>\n",
    "H_1 = μ_1 - μ_2 ≠ 0 <br>\n"
   ]
  },
  {
   "cell_type": "code",
   "execution_count": 11,
   "id": "59321dc2",
   "metadata": {},
   "outputs": [
    {
     "name": "stdout",
     "output_type": "stream",
     "text": [
      "\n",
      "Welch's t-test results:\n",
      "t-statistic: 10.0000\n",
      "p-value: 0.1570\n",
      "since the P value is greater than the significance value, we cannot reject the null hypothesis\n"
     ]
    }
   ],
   "source": [
    "# Assuming the CSV has two columns named 'Group1' and 'Group2'\n",
    "boat_two = singleRun.iloc[:, 1].dropna()\n",
    "boat_One_in_group = groupboat.iloc[:, 0].dropna()\n",
    "\n",
    "significance_level = 0.05 # Testing level. \n",
    "\n",
    "# Perform Welch's t-test\n",
    "u_stat, p_value = mannwhitneyu(boat_two, boat_One_in_group, alternative='two-sided')\n",
    "\n",
    "print(\"\\nWelch's t-test results:\")\n",
    "print(f\"t-statistic: {u_stat:.4f}\")\n",
    "print(f\"p-value: {p_value:.4f}\")\n",
    "\n",
    "if p_value < significance_level: \n",
    "    print(\"since the P value is less than the significance value, we reject the null hypothesis, and conclude that with 95 % signicance level, that these two mean are difference\")\n",
    "else:\n",
    "     print(\"since the P value is greater than the significance value, we cannot reject the null hypothesis\")\n"
   ]
  },
  {
   "cell_type": "markdown",
   "id": "4c9e8a5e",
   "metadata": {},
   "source": [
    "## 6: Two-sided alternative hypothesis \n",
    "###  Is the sailing speed the same, whether boat 1 or boat 2 is in front? \n",
    "Null hypothesis is defined to be: These two mean value are not different from each other. <br>\n",
    "(μ) == mean <br>\n",
    "H_0 μ_1 - μ_2 = 0 <br>\n",
    "H_1 = μ_1 - μ_2 ≠ 0 <br>\n"
   ]
  },
  {
   "cell_type": "code",
   "execution_count": 12,
   "id": "6dd79f85",
   "metadata": {},
   "outputs": [
    {
     "name": "stdout",
     "output_type": "stream",
     "text": [
      "\n",
      "Welch's t-test results:\n",
      "t-statistic: 34.0000\n",
      "p-value: 0.1783\n",
      "since the P value is greater than the significance value, we cannot reject the null hypothesis\n"
     ]
    }
   ],
   "source": [
    "# Assuming the CSV has two columns named 'Group1' and 'Group2'\n",
    "boat_One_group = groupboat.iloc[:, 0].dropna()\n",
    "boat_Two_in_group = groupboat.iloc[:, 1].dropna()\n",
    "\n",
    "significance_level = 0.05 # Testing level. \n",
    "\n",
    "# Perform Welch's t-test\n",
    "u_stat, p_value = mannwhitneyu(boat_One_group, boat_Two_in_group, alternative='two-sided')\n",
    "\n",
    "print(\"\\nWelch's t-test results:\")\n",
    "print(f\"t-statistic: {u_stat:.4f}\")\n",
    "print(f\"p-value: {p_value:.4f}\")\n",
    "\n",
    "if p_value < significance_level: \n",
    "    print(\"since the P value is less than the significance value, we reject the null hypothesis, and conclude that with 95 % signicance level, that these two mean are difference\")\n",
    "else:\n",
    "     print(\"since the P value is greater than the significance value, we cannot reject the null hypothesis\")\n"
   ]
  }
 ],
 "metadata": {
  "kernelspec": {
   "display_name": "Python 3",
   "language": "python",
   "name": "python3"
  },
  "language_info": {
   "codemirror_mode": {
    "name": "ipython",
    "version": 3
   },
   "file_extension": ".py",
   "mimetype": "text/x-python",
   "name": "python",
   "nbconvert_exporter": "python",
   "pygments_lexer": "ipython3",
   "version": "3.12.0"
  }
 },
 "nbformat": 4,
 "nbformat_minor": 5
}
