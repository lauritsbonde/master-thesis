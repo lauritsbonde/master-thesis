{
 "cells": [
  {
   "cell_type": "markdown",
   "id": "quarterly-report",
   "metadata": {},
   "source": [
    "# MannWhitney U-test (not asumming Guassian distribution) "
   ]
  },
  {
   "cell_type": "code",
   "execution_count": 15,
   "id": "concerned-renewal",
   "metadata": {},
   "outputs": [],
   "source": [
    "import pandas as pd\n",
    "import numpy as np\n",
    "import matplotlib.pyplot as plt\n",
    "from scipy.stats import mannwhitneyu\n",
    "\n",
    "\n",
    "%matplotlib inline"
   ]
  },
  {
   "cell_type": "code",
   "execution_count": 16,
   "id": "elementary-negative",
   "metadata": {},
   "outputs": [],
   "source": [
    "# \n",
    "Boat_One_single = pd.read_csv(\"../../data/BoatOneSingleCurrent.csv\", sep=\";\")\n",
    "Boat_Tree_single = pd.read_csv(\"../../data/Boat_3_single_run.csv\", sep=\";\")\n",
    "\n",
    "\n",
    "Boat_One_Front = pd.read_csv(\"../../data/Boat_1_FrontDoubleCurrent.csv\", sep=\";\")\n",
    "Boat_One_Back = pd.read_csv(\"../../data/boat_1_double_back.csv\", sep=\";\")\n",
    "Boat_Tree_Front = pd.read_csv(\"../../data/boat_3_double_front.csv\", sep=\";\")\n",
    "Boat_Three_Back = pd.read_csv(\"../../data/boat_3_double_back.csv\", sep=\";\")\n",
    "\n",
    "\n"
   ]
  },
  {
   "cell_type": "markdown",
   "id": "94ac6e5c",
   "metadata": {},
   "source": [
    "## 1: Two-sided alternative hypothesis \n",
    "###  Is there a difference in used current of boat 1 and boat 2? \n",
    "\n",
    "Null hypothesis is defined to be: These two mean value are not different from each other. <br>\n",
    "(μ) == mean <br>\n",
    "H_0 μ_1 - μ_2 = 0 <br>\n",
    "H_1 = μ_1 - μ_2 ≠ 0 <br>"
   ]
  },
  {
   "cell_type": "code",
   "execution_count": 17,
   "id": "suspended-genetics",
   "metadata": {},
   "outputs": [],
   "source": [
    "\n",
    "# Assuming the CSV has two columns named 'Group1' and 'Group2'\n",
    "boatOneSingle = Boat_One_single.iloc[:, 1].dropna()\n",
    "boatTreeSingle = Boat_Tree_single.iloc[:, 1].dropna()\n",
    "\n",
    "headerOne = list(Boat_One_single.columns.values)[1]\n",
    "headerTWO = list(Boat_Tree_single.columns.values)[1]\n",
    "\n",
    "\n",
    "#print(boatOneSingle)\n",
    "significance_level = 0.05 # Testing level. "
   ]
  },
  {
   "cell_type": "code",
   "execution_count": 18,
   "id": "respected-minimum",
   "metadata": {},
   "outputs": [
    {
     "name": "stdout",
     "output_type": "stream",
     "text": [
      "\n",
      "Welch's t-test results:\n",
      "t-statistic: 3920.0000\n",
      "p-value: 0.0000\n",
      "\n",
      "Welch's t-test results:\n",
      "t-statistic: 3920.0000\n",
      "p-value: 0.0000\n"
     ]
    }
   ],
   "source": [
    "# Perform Welch's t-test\n",
    "u_stat, p_value = mannwhitneyu(boatOneSingle, boatTreeSingle, alternative='two-sided')\n",
    "\n",
    "# H_0 = boatOne - boattwo <= 0\n",
    "u_stat_one, p_value_one = mannwhitneyu(boatOneSingle, boatTreeSingle, alternative='greater') # h_0 = x - y <= 0,\n",
    "\n",
    "print(\"\\nWelch's t-test results:\")\n",
    "print(f\"t-statistic: {u_stat:.4f}\")\n",
    "print(f\"p-value: {p_value:.4f}\")\n",
    "\n",
    "print(\"\\nWelch's t-test results:\")\n",
    "print(f\"t-statistic: {u_stat_one:.4f}\")\n",
    "print(f\"p-value: {p_value_one:.4f}\")"
   ]
  },
  {
   "cell_type": "markdown",
   "id": "elegant-precipitation",
   "metadata": {},
   "source": [
    "# \n"
   ]
  },
  {
   "cell_type": "code",
   "execution_count": null,
   "id": "27ee1ad1",
   "metadata": {},
   "outputs": [],
   "source": []
  },
  {
   "cell_type": "code",
   "execution_count": 19,
   "id": "b6044468",
   "metadata": {},
   "outputs": [
    {
     "name": "stdout",
     "output_type": "stream",
     "text": [
      "since the P value is less than the significance value, we reject the null hypothesis, and conclude that with 95 % signicance level, that these two mean are difference\n"
     ]
    }
   ],
   "source": [
    "if p_value < significance_level: \n",
    "    print(\"since the P value is less than the significance value, we reject the null hypothesis, and conclude that with 95 % signicance level, that these two mean are difference\")\n",
    "else:\n",
    "     print(\"since the P value is greater than the significance value, we cannot reject the null hypothesis\")\n"
   ]
  },
  {
   "cell_type": "markdown",
   "id": "cd976802",
   "metadata": {},
   "source": [
    "## 2: Two-sided alternative hypothesis \n",
    "###  Is there a difference in boat 1 current if the boat is in front and boat 2 is attached compared to when it is sailing alone?\n",
    "Null hypothesis is defined to be: These two mean value are not different from each other. <br>\n",
    "(μ) == mean <br>\n",
    "H_0 μ_1 - μ_2 = 0 <br>\n",
    "H_1 = μ_1 - μ_2 ≠ 0 <br>\n",
    "\n",
    "#### hypothesis for one-sided U-Test: \n",
    "\n",
    "Null hypothesis is defined to be: does  <br>\n",
    "\n",
    "(μ) == mean <br>\n",
    "H_0 μ_1 - μ_2 >= 0 <br>\n",
    "H_1 = μ_1 - μ_2 > 0 <br>\n",
    "\n",
    "Hypotese 2: Greater: \n",
    "\n",
    "Null hypothesis is defined to be: does  <br>\n",
    "\n",
    "(μ) == mean <br>\n",
    "H_0 μ_1 - μ_2 <= 0 <br>\n",
    "H_1 = μ_1 - μ_2 > 0 <br>\n",
    "\n",
    "we want to check, to see if we can consider these two mean value to be identical. "
   ]
  },
  {
   "cell_type": "code",
   "execution_count": 20,
   "id": "875dfb5b",
   "metadata": {},
   "outputs": [
    {
     "name": "stdout",
     "output_type": "stream",
     "text": [
      "<bound method NDFrame.head of      Round  Current\n",
      "0        3     3.66\n",
      "1        3     3.69\n",
      "2        3     3.70\n",
      "3        3     3.70\n",
      "4        3     3.70\n",
      "..     ...      ...\n",
      "237     13     3.84\n",
      "238     13     3.84\n",
      "239     13     3.84\n",
      "240     13     3.84\n",
      "241     13     3.87\n",
      "\n",
      "[242 rows x 2 columns]>\n",
      "<bound method NDFrame.head of    Round  Current measured\n",
      "0     1;              3.47\n",
      "1     1;              3.47\n",
      "2     1;              3.47\n",
      "3     1;              3.47\n",
      "4     1;              3.47\n",
      "5     1;              3.46\n",
      "6     1;              3.47\n",
      "7     1;              3.47\n",
      "8     1;              3.46\n",
      "9     1;              3.47\n",
      "10    1;              3.48\n",
      "11    1;              3.48\n",
      "12    1;              3.48\n",
      "13    1;              3.48\n",
      "14    1;              3.47\n",
      "15    1;              3.49\n",
      "16    1;              3.49\n",
      "17    1;              3.49\n",
      "18    1;              3.48\n",
      "19    1;              3.46\n",
      "20    1;              3.45\n",
      "21    1;              3.45\n",
      "22    1;              3.45\n",
      "23    1;              3.46\n",
      "24    1;              3.48\n",
      "25    1;              3.52\n",
      "26    2;              3.71\n",
      "27    2;              3.73\n",
      "28    2;              3.72\n",
      "29    2;              3.73\n",
      "30    2;              3.72\n",
      "31    2;              3.73\n",
      "32    2;              3.73\n",
      "33    2;              3.73\n",
      "34    2;              3.73\n",
      "35    2;              3.73\n",
      "36    2;              3.73\n",
      "37    2;              3.73\n",
      "38    2;              3.73\n",
      "39    2;              3.73\n",
      "40    2;              3.73\n",
      "41    2;              3.73\n",
      "42    2;              3.73\n",
      "43    2;              3.72\n",
      "44    2;              3.72\n",
      "45    2;              3.72\n",
      "46    2;              3.72\n",
      "47    2;              3.72\n",
      "48    2;              3.71\n",
      "49    2;              3.74\n",
      "50    2;              3.74\n",
      "51    2;              3.72\n",
      "52    2;              3.72\n",
      "53    2;              3.72\n",
      "54    2;              3.72\n",
      "55    2;              3.72>\n"
     ]
    }
   ],
   "source": [
    "\n",
    "# Assuming the CSV has two columns named 'Group1' and 'Group2'\n",
    "boat_one_single = Boat_One_single.iloc[:, 1].dropna()\n",
    "boat_One_front = Boat_One_Front.iloc[:, 1].dropna()\n",
    "\n",
    "significance_level = 0.05 # Testing level. \n",
    "\n",
    "print(Boat_One_Front.head)\n",
    "print(Boat_One_single.head)"
   ]
  },
  {
   "cell_type": "code",
   "execution_count": 21,
   "id": "0adb21a2",
   "metadata": {},
   "outputs": [
    {
     "name": "stdout",
     "output_type": "stream",
     "text": [
      "\n",
      "Welch's t-test results:\n",
      "t-statistic: 2162.5000\n",
      "p-value: 0.0000\n",
      "\n",
      "Welch's t-test results:\n",
      "t-statistic: 2162.5000\n",
      "p-value: 1.0000\n"
     ]
    }
   ],
   "source": [
    "# Perform Welch's t-test\n",
    "u_stat, p_value = mannwhitneyu(boat_one_single, boat_One_front, alternative='two-sided')\n",
    "\n",
    "# H_0 = boatOne - boatOne_groups >= 0\n",
    "u_stat_one, p_value_one = mannwhitneyu(boat_one_single, boat_One_front, alternative='greater')\n",
    "\n",
    "#u_stat_one, p_value_one = mannwhitneyu([10,10,10], [5,5,5], alternative='greater') # h_0 = x - y <= 0, \n",
    "\n",
    "\n",
    "print(\"\\nWelch's t-test results:\")\n",
    "print(f\"t-statistic: {u_stat:.4f}\")\n",
    "print(f\"p-value: {p_value:.4f}\")\n",
    "\n",
    "print(\"\\nWelch's t-test results:\")\n",
    "print(f\"t-statistic: {u_stat_one:.4f}\")\n",
    "print(f\"p-value: {p_value_one:.4f}\")"
   ]
  },
  {
   "cell_type": "code",
   "execution_count": 22,
   "id": "15b05f94",
   "metadata": {},
   "outputs": [
    {
     "name": "stdout",
     "output_type": "stream",
     "text": [
      "since the P value is less than the significance value, we reject the null hypothesis, and conclude that with 95 % signicance level, that these two mean are difference\n"
     ]
    }
   ],
   "source": [
    "if p_value < significance_level: \n",
    "    print(\"since the P value is less than the significance value, we reject the null hypothesis, and conclude that with 95 % signicance level, that these two mean are difference\")\n",
    "else:\n",
    "     print(\"since the P value is greater than the significance value, we cannot reject the null hypothesis\")\n"
   ]
  },
  {
   "cell_type": "code",
   "execution_count": 23,
   "id": "109d23c5",
   "metadata": {},
   "outputs": [
    {
     "name": "stdout",
     "output_type": "stream",
     "text": [
      "since the P_one value is greater than the significance value, we cannot reject the null hypothesis\n"
     ]
    }
   ],
   "source": [
    "if p_value_one < significance_level: \n",
    "    print(\"since the P_one value for one-sided is less than the significance value, we reject the null hypothesis, and conclude that with 95 % signicance level, that these two mean are difference\")\n",
    "else:\n",
    "     print(\"since the P_one value is greater than the significance value, we cannot reject the null hypothesis\")\n"
   ]
  },
  {
   "cell_type": "markdown",
   "id": "b579b4cd",
   "metadata": {},
   "source": [
    "## 3: Two-sided alternative hypothesis \n",
    "### Is there a difference in boat 2 current if the boat is in front and boat 1 is attached compared to when it is sailing alone?\n",
    "\n",
    "Null hypothesis is defined to be: These two mean value are not different from each other. <br>\n",
    "(μ) == mean <br>\n",
    "H_0 μ_1 - μ_2 = 0 <br>\n",
    "H_1 = μ_1 - μ_2 ≠ 0 <br>"
   ]
  },
  {
   "cell_type": "code",
   "execution_count": 24,
   "id": "0cbd5a54",
   "metadata": {},
   "outputs": [
    {
     "name": "stdout",
     "output_type": "stream",
     "text": [
      "\n",
      "Welch's t-test results:\n",
      "t-statistic: 2347.0000\n",
      "p-value: 0.0000\n",
      "\n",
      "Welch's t-test results:\n",
      "t-statistic: 2347.0000\n",
      "p-value: 1.0000\n",
      "since the P value is less than the significance value, we reject the null hypothesis, and conclude that with 95 % signicance level, that these two mean are difference\n"
     ]
    }
   ],
   "source": [
    "\n",
    "# Assuming the CSV has two columns named 'Group1' and 'Group2'\n",
    "\n",
    "# Assuming the CSV has two columns named 'Group1' and 'Group2'\n",
    "boat_one_single = Boat_Tree_single.iloc[:, 1].dropna()\n",
    "boat_One_front = Boat_Tree_Front.iloc[:, 1].dropna()\n",
    "\n",
    "significance_level = 0.05 # Testing level. \n",
    "\n",
    "# Perform Welch's t-test\n",
    "u_stat, p_value = mannwhitneyu(boat_one_single, boat_One_front, alternative='two-sided')\n",
    "\n",
    "# H_0 = boatOne - boatOne_groups >= 0\n",
    "u_stat_one, p_value_one = mannwhitneyu(boat_one_single, boat_One_front, alternative='greater')\n",
    "\n",
    "\n",
    "print(\"\\nWelch's t-test results:\")\n",
    "print(f\"t-statistic: {u_stat:.4f}\")\n",
    "print(f\"p-value: {p_value:.4f}\")\n",
    "\n",
    "print(\"\\nWelch's t-test results:\")\n",
    "print(f\"t-statistic: {u_stat_one:.4f}\")\n",
    "print(f\"p-value: {p_value_one:.4f}\")\n",
    "\n",
    "\n",
    "\n",
    "if p_value < significance_level: \n",
    "    print(\"since the P value is less than the significance value, we reject the null hypothesis, and conclude that with 95 % signicance level, that these two mean are difference\")\n",
    "else:\n",
    "     print(\"since the P value is greater than the significance value, we cannot reject the null hypothesis\")\n"
   ]
  },
  {
   "cell_type": "markdown",
   "id": "0f6f5c76",
   "metadata": {},
   "source": [
    "## 4: Two-sided alternative hypothesis \n",
    "###  is there a different in boat 1 current when it attach to boat 2 compared to when it sailing\n",
    "alone?\n",
    "\n",
    "Null hypothesis is defined to be: These two mean value are not different from each other. <br>\n",
    "(μ) == mean <br>\n",
    "H_0 μ_1 - μ_2 = 0 <br>\n",
    "H_1 = μ_1 - μ_2 ≠ 0 <br>"
   ]
  },
  {
   "cell_type": "code",
   "execution_count": 25,
   "id": "064087f0",
   "metadata": {},
   "outputs": [
    {
     "name": "stdout",
     "output_type": "stream",
     "text": [
      "\n",
      "Welch's t-test results:\n",
      "t-statistic: 1.0000\n",
      "p-value: 0.0000\n",
      "since the P value is less than the significance value, we reject the null hypothesis, and conclude that with 95 % signicance level, that these two mean are difference\n"
     ]
    }
   ],
   "source": [
    "# Assuming the CSV has two columns named 'Group1' and 'Group2'\n",
    "boat_one = Boat_One_single.iloc[:, 1].dropna()\n",
    "boat_One_in_group = Boat_One_Back.iloc[:, 1].dropna()\n",
    "\n",
    "\n",
    "significance_level = 0.05 # Testing level. \n",
    "\n",
    "# Perform Welch's t-test\n",
    "u_stat, p_value = mannwhitneyu(boat_one, boat_One_in_group, alternative='two-sided')\n",
    "\n",
    "print(\"\\nWelch's t-test results:\")\n",
    "print(f\"t-statistic: {u_stat:.4f}\")\n",
    "print(f\"p-value: {p_value:.4f}\")\n",
    "\n",
    "if p_value < significance_level: \n",
    "    print(\"since the P value is less than the significance value, we reject the null hypothesis, and conclude that with 95 % signicance level, that these two mean are difference\")\n",
    "else:\n",
    "     print(\"since the P value is greater than the significance value, we cannot reject the null hypothesis\")\n"
   ]
  },
  {
   "cell_type": "markdown",
   "id": "78806ceb",
   "metadata": {},
   "source": [
    "## 5: Two-sided alternative hypothesis \n",
    "###   is there a different in boat 2 current when it attach to boat 1 compared to when it sailing alone?\n",
    "Null hypothesis is defined to be: These two mean value are not different from each other. <br>\n",
    "(μ) == mean <br>\n",
    "H_0 μ_1 - μ_2 = 0 <br>\n",
    "H_1 = μ_1 - μ_2 ≠ 0 <br>\n"
   ]
  },
  {
   "cell_type": "code",
   "execution_count": 26,
   "id": "59321dc2",
   "metadata": {},
   "outputs": [
    {
     "name": "stdout",
     "output_type": "stream",
     "text": [
      "\n",
      "Welch's t-test results:\n",
      "t-statistic: 1691.0000\n",
      "p-value: 0.0000\n",
      "\n",
      "Welch's t-test results:\n",
      "t-statistic: 1691.0000\n",
      "p-value: 1.0000\n",
      "since the P value is less than the significance value, we reject the null hypothesis, and conclude that with 95 % signicance level, that these two mean are difference\n"
     ]
    }
   ],
   "source": [
    "# Assuming the CSV has two columns named 'Group1' and 'Group2'\n",
    "\n",
    "boat_two = Boat_Tree_single.iloc[:, 1].dropna()\n",
    "boat_One_in_group = Boat_Three_Back.iloc[:, 1].dropna()\n",
    "\n",
    "significance_level = 0.05 # Testing level. \n",
    "\n",
    "# Perform Welch's t-test\n",
    "u_stat, p_value = mannwhitneyu(boat_two, boat_One_in_group, alternative='two-sided')\n",
    "\n",
    "# H_0 = boatOne - boatOne_groups >= 0\n",
    "u_stat_one, p_value_one = mannwhitneyu(boat_two, boat_One_in_group, alternative='greater') # H_0 = x - y >= 0 \n",
    "\n",
    "\n",
    "print(\"\\nWelch's t-test results:\")\n",
    "print(f\"t-statistic: {u_stat:.4f}\")\n",
    "print(f\"p-value: {p_value:.4f}\")\n",
    "\n",
    "print(\"\\nWelch's t-test results:\")\n",
    "print(f\"t-statistic: {u_stat_one:.4f}\")\n",
    "print(f\"p-value: {p_value_one:.4f}\")\n",
    "\n",
    "\n",
    "\n",
    "if p_value < significance_level: \n",
    "    print(\"since the P value is less than the significance value, we reject the null hypothesis, and conclude that with 95 % signicance level, that these two mean are difference\")\n",
    "else:\n",
    "     print(\"since the P value is greater than the significance value, we cannot reject the null hypothesis\")\n"
   ]
  },
  {
   "cell_type": "markdown",
   "id": "4c9e8a5e",
   "metadata": {},
   "source": [
    "## 6: Two-sided alternative hypothesis \n",
    "###  Is the sailing speed the same, whether boat 1 or boat 2 is in front? \n",
    "Null hypothesis is defined to be: These two mean value are not different from each other. <br>\n",
    "(μ) == mean <br>\n",
    "H_0 μ_1 - μ_2 = 0 <br>\n",
    "H_1 = μ_1 - μ_2 ≠ 0 <br>\n"
   ]
  },
  {
   "cell_type": "code",
   "execution_count": 30,
   "id": "6dd79f85",
   "metadata": {},
   "outputs": [
    {
     "name": "stdout",
     "output_type": "stream",
     "text": [
      "\n",
      "Welch's t-test results:\n",
      "t-statistic: 59774.0000\n",
      "p-value: 0.0000\n",
      "\n",
      "Welch's t-test results:\n",
      "t-statistic_one: 59774.0000\n",
      "p-value_one: 0.0000\n",
      "since the P value is less than the significance value, we reject the null hypothesis, and conclude that with 95 % signicance level, that these two mean are difference\n"
     ]
    }
   ],
   "source": [
    "# Assuming the CSV has two columns named 'Group1' and 'Group2'\n",
    "boat_One_group = Boat_One_Front.iloc[:, 1].dropna()\n",
    "boat_Two_in_group = Boat_Tree_Front.iloc[:, 1].dropna()\n",
    "\n",
    "significance_level = 0.05 # Testing level. \n",
    "\n",
    "# Perform Welch's t-test\n",
    "u_stat, p_value = mannwhitneyu(boat_One_group, boat_Two_in_group, alternative='two-sided')\n",
    "\n",
    "u_stat_one, p_value_one = mannwhitneyu(boat_One_group, boat_Two_in_group, alternative='greater')\n",
    "\n",
    "print(\"\\nWelch's t-test results:\")\n",
    "print(f\"t-statistic: {u_stat:.4f}\")\n",
    "print(f\"p-value: {p_value:.4f}\")\n",
    "\n",
    "print(\"\\nWelch's t-test results:\")\n",
    "print(f\"t-statistic_one: {u_stat_one:.4f}\")\n",
    "print(f\"p-value_one: {p_value_one:.4f}\")\n",
    "\n",
    "if p_value < significance_level: \n",
    "    print(\"since the P value is less than the significance value, we reject the null hypothesis, and conclude that with 95 % signicance level, that these two mean are difference\")\n",
    "else:\n",
    "     print(\"since the P value is greater than the significance value, we cannot reject the null hypothesis\")\n"
   ]
  }
 ],
 "metadata": {
  "kernelspec": {
   "display_name": "Python 3",
   "language": "python",
   "name": "python3"
  },
  "language_info": {
   "codemirror_mode": {
    "name": "ipython",
    "version": 3
   },
   "file_extension": ".py",
   "mimetype": "text/x-python",
   "name": "python",
   "nbconvert_exporter": "python",
   "pygments_lexer": "ipython3",
   "version": "3.12.0"
  }
 },
 "nbformat": 4,
 "nbformat_minor": 5
}
