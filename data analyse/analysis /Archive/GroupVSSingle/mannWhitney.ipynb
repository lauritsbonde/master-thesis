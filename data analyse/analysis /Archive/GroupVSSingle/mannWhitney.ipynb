{
 "cells": [
  {
   "cell_type": "markdown",
   "id": "quarterly-report",
   "metadata": {},
   "source": [
    "# MannWhitney U-test (not asumming Guassian distribution) "
   ]
  },
  {
   "cell_type": "code",
   "execution_count": 16,
   "id": "concerned-renewal",
   "metadata": {},
   "outputs": [],
   "source": [
    "import pandas as pd\n",
    "import numpy as np\n",
    "import matplotlib.pyplot as plt\n",
    "from scipy.stats import mannwhitneyu\n",
    "\n",
    "\n",
    "%matplotlib inline"
   ]
  },
  {
   "cell_type": "code",
   "execution_count": 17,
   "id": "elementary-negative",
   "metadata": {},
   "outputs": [
    {
     "data": {
      "text/html": [
       "<div>\n",
       "<style scoped>\n",
       "    .dataframe tbody tr th:only-of-type {\n",
       "        vertical-align: middle;\n",
       "    }\n",
       "\n",
       "    .dataframe tbody tr th {\n",
       "        vertical-align: top;\n",
       "    }\n",
       "\n",
       "    .dataframe thead th {\n",
       "        text-align: right;\n",
       "    }\n",
       "</style>\n",
       "<table border=\"1\" class=\"dataframe\">\n",
       "  <thead>\n",
       "    <tr style=\"text-align: right;\">\n",
       "      <th></th>\n",
       "      <th>Baad 1 (sec)</th>\n",
       "      <th>Baad 3 (sec)</th>\n",
       "    </tr>\n",
       "  </thead>\n",
       "  <tbody>\n",
       "    <tr>\n",
       "      <th>0</th>\n",
       "      <td>32</td>\n",
       "      <td>25</td>\n",
       "    </tr>\n",
       "    <tr>\n",
       "      <th>1</th>\n",
       "      <td>30</td>\n",
       "      <td>26</td>\n",
       "    </tr>\n",
       "    <tr>\n",
       "      <th>2</th>\n",
       "      <td>30</td>\n",
       "      <td>27</td>\n",
       "    </tr>\n",
       "    <tr>\n",
       "      <th>3</th>\n",
       "      <td>27</td>\n",
       "      <td>31</td>\n",
       "    </tr>\n",
       "  </tbody>\n",
       "</table>\n",
       "</div>"
      ],
      "text/plain": [
       "   Baad 1 (sec)  Baad 3 (sec)\n",
       "0            32            25\n",
       "1            30            26\n",
       "2            30            27\n",
       "3            27            31"
      ]
     },
     "execution_count": 17,
     "metadata": {},
     "output_type": "execute_result"
    }
   ],
   "source": [
    "group = pd.read_csv(\"../../data/Groupboat.csv\", sep=\";\")\n",
    "single = pd.read_csv(\"../../data/singleRun.csv\", sep=\";\")\n",
    "\n",
    "group.head()\n",
    "single.head()"
   ]
  },
  {
   "cell_type": "markdown",
   "id": "mediterranean-jacket",
   "metadata": {},
   "source": [
    "## Describe data"
   ]
  },
  {
   "cell_type": "code",
   "execution_count": 18,
   "id": "2a822de3",
   "metadata": {},
   "outputs": [],
   "source": [
    "# Assuming the CSV has two columns named 'Group1' and 'Group2'\n",
    "boatOneSingle = single.iloc[:, 0].dropna()\n",
    "BoatTwoSingle = single.iloc[:, 1].dropna()\n",
    "\n",
    "boatOneGroup = group.iloc[:, 0].dropna()\n",
    "BoatTwoGroup = group.iloc[:, 1].dropna()\n"
   ]
  },
  {
   "cell_type": "code",
   "execution_count": 19,
   "id": "analyzed-characterization",
   "metadata": {},
   "outputs": [],
   "source": [
    "# Add hour column\n",
    "# Display basic descriptive statistics for each column\n",
    "#print(\"Descriptive statistics:\")\n",
    "#print(df.describe())\n",
    "\n",
    "#latex_str = df.describe().to_latex(index=True)  # index=False fjerner indekskolonnen\n",
    "\n",
    "\n",
    "#print(latex_str)"
   ]
  },
  {
   "cell_type": "code",
   "execution_count": 20,
   "id": "suspended-genetics",
   "metadata": {},
   "outputs": [],
   "source": [
    "\n",
    "# Assuming the CSV has two columns named 'Group1' and 'Group2'\n",
    "#female = df.iloc[:, 0].dropna()\n",
    "#man = df.iloc[:, 1].dropna()\n",
    "\n",
    "\n",
    "#headerOne = list(df.columns.values)[0]\n",
    "#headerTWO = list(df.columns.values)[1]\n",
    "\n",
    "\n",
    "#print(headerOne)\n",
    "significance_level = 0.05 # Testing level. "
   ]
  },
  {
   "cell_type": "markdown",
   "id": "elegant-precipitation",
   "metadata": {},
   "source": [
    "# \n"
   ]
  },
  {
   "cell_type": "markdown",
   "id": "972c3388",
   "metadata": {},
   "source": [
    "### Two-sided alternative hypothesis \n",
    "\n",
    "Null hypothesis is defined to be: These two mean value are not different from each other. <br>\n",
    "\n",
    "(μ) == mean <br>\n",
    "H_0 μ_1 - μ_2 = 0 <br>\n",
    "H_1 = μ_1 - μ_2 ≠ 0 <br>\n",
    "\n",
    "we want to check, to see if we can consider these two mean value to be identical. "
   ]
  },
  {
   "cell_type": "code",
   "execution_count": 21,
   "id": "respected-minimum",
   "metadata": {},
   "outputs": [
    {
     "name": "stdout",
     "output_type": "stream",
     "text": [
      "\n",
      "Welch's t-test results:\n",
      "t-statistic: 30.0000\n",
      "p-value: 0.1565\n"
     ]
    }
   ],
   "source": [
    "# Perform Welch's t-test\n",
    "u_stat, p_value = mannwhitneyu(boatOneSingle, boatOneGroup, alternative='two-sided')\n",
    "\n",
    "print(\"\\nWelch's t-test results:\")\n",
    "print(f\"t-statistic: {u_stat:.4f}\")\n",
    "print(f\"p-value: {p_value:.4f}\")"
   ]
  },
  {
   "cell_type": "code",
   "execution_count": 22,
   "id": "b6044468",
   "metadata": {},
   "outputs": [
    {
     "name": "stdout",
     "output_type": "stream",
     "text": [
      "since the P value is greater than the significance value, we cannot reject the null hypothesis\n"
     ]
    }
   ],
   "source": [
    "if p_value < significance_level: \n",
    "    print(\"since the P value is less than the significance value, we reject the null hypothesis, and conclude that with 95 % signicance level, that these two mean are difference\")\n",
    "else:\n",
    "     print(\"since the P value is greater than the significance value, we cannot reject the null hypothesis\")\n"
   ]
  },
  {
   "cell_type": "code",
   "execution_count": 24,
   "id": "f6a776b3",
   "metadata": {},
   "outputs": [
    {
     "name": "stdout",
     "output_type": "stream",
     "text": [
      "\n",
      "Welch's t-test results:\n",
      "t-statistic: 28.0000\n",
      "p-value: 0.2633\n"
     ]
    }
   ],
   "source": [
    "# Perform Welch's t-test\n",
    "u_stat, p_value = mannwhitneyu(boatOneSingle, BoatTwoGroup, alternative='two-sided')\n",
    "\n",
    "print(\"\\nWelch's t-test results:\")\n",
    "print(f\"t-statistic: {u_stat:.4f}\")\n",
    "print(f\"p-value: {p_value:.4f}\")\n",
    "\n",
    "\n"
   ]
  },
  {
   "cell_type": "code",
   "execution_count": 25,
   "id": "91532046",
   "metadata": {},
   "outputs": [
    {
     "name": "stdout",
     "output_type": "stream",
     "text": [
      "since the P value is greater than the significance value, we cannot reject the null hypothesis\n"
     ]
    }
   ],
   "source": [
    "if p_value < significance_level: \n",
    "    print(\"since the P value is less than the significance value, we reject the null hypothesis, and conclude that with 95 % signicance level, that these two mean are difference\")\n",
    "else:\n",
    "     print(\"since the P value is greater than the significance value, we cannot reject the null hypothesis\")\n"
   ]
  },
  {
   "cell_type": "code",
   "execution_count": 26,
   "id": "1af70107",
   "metadata": {},
   "outputs": [
    {
     "name": "stdout",
     "output_type": "stream",
     "text": [
      "\n",
      "Welch's t-test results:\n",
      "t-statistic: 10.0000\n",
      "p-value: 0.1610\n"
     ]
    }
   ],
   "source": [
    "# Perform Welch's t-test\n",
    "u_stat, p_value = mannwhitneyu(BoatTwoSingle, BoatTwoGroup, alternative='two-sided')\n",
    "\n",
    "print(\"\\nWelch's t-test results:\")\n",
    "print(f\"t-statistic: {u_stat:.4f}\")\n",
    "print(f\"p-value: {p_value:.4f}\")"
   ]
  },
  {
   "cell_type": "code",
   "execution_count": 28,
   "id": "d4e4106a",
   "metadata": {},
   "outputs": [
    {
     "name": "stdout",
     "output_type": "stream",
     "text": [
      "\n",
      "Welch's t-test results:\n",
      "t-statistic: 10.0000\n",
      "p-value: 0.1570\n"
     ]
    }
   ],
   "source": [
    "# Perform Welch's t-test\n",
    "u_stat, p_value = mannwhitneyu(BoatTwoSingle, boatOneGroup, alternative='two-sided')\n",
    "\n",
    "print(\"\\nWelch's t-test results:\")\n",
    "print(f\"t-statistic: {u_stat:.4f}\")\n",
    "print(f\"p-value: {p_value:.4f}\")"
   ]
  },
  {
   "cell_type": "code",
   "execution_count": 29,
   "id": "c5972704",
   "metadata": {},
   "outputs": [
    {
     "name": "stdout",
     "output_type": "stream",
     "text": [
      "since the P value is greater than the significance value, we cannot reject the null hypothesis\n"
     ]
    }
   ],
   "source": [
    "if p_value < significance_level: \n",
    "    print(\"since the P value is less than the significance value, we reject the null hypothesis, and conclude that with 95 % signicance level that \" + headerOne + \" mean is greater than \" + headerTWO)\n",
    "else:\n",
    "     print(\"since the P value is greater than the significance value, we cannot reject the null hypothesis\")\n"
   ]
  }
 ],
 "metadata": {
  "kernelspec": {
   "display_name": "Python 3",
   "language": "python",
   "name": "python3"
  },
  "language_info": {
   "codemirror_mode": {
    "name": "ipython",
    "version": 3
   },
   "file_extension": ".py",
   "mimetype": "text/x-python",
   "name": "python",
   "nbconvert_exporter": "python",
   "pygments_lexer": "ipython3",
   "version": "3.12.0"
  }
 },
 "nbformat": 4,
 "nbformat_minor": 5
}
